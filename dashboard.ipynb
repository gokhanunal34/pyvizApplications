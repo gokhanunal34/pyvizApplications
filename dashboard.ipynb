{
 "cells": [
  {
   "cell_type": "markdown",
   "metadata": {},
   "source": [
    "# San Francisco Rental Prices Dashboard\n",
    "\n",
    "In this notebook, you will compile the visualizations from the previous analysis into functions that can be used for a Panel dashboard."
   ]
  },
  {
   "cell_type": "code",
   "execution_count": 38,
   "metadata": {},
   "outputs": [],
   "source": [
    "# imports\n",
    "import panel as pn\n",
    "pn.extension('plotly')\n",
    "import plotly.express as px\n",
    "import pandas as pd\n",
    "import hvplot.pandas\n",
    "import matplotlib.pyplot as plt\n",
    "import os\n",
    "from pathlib import Path\n",
    "from dotenv import load_dotenv\n",
    "from panel.interact import interact, interactive, fixed, interact_manual"
   ]
  },
  {
   "cell_type": "code",
   "execution_count": 39,
   "metadata": {},
   "outputs": [],
   "source": [
    "# Read the Mapbox API key\n",
    "load_dotenv()\n",
    "map_box_api = os.getenv(\"MAPBOX_TOKEN\")\n",
    "px.set_mapbox_access_token(map_box_api)"
   ]
  },
  {
   "cell_type": "markdown",
   "metadata": {},
   "source": [
    "(sfo_neighborhoods_census['year', 'neighborhood'])# Import Data"
   ]
  },
  {
   "cell_type": "code",
   "execution_count": null,
   "metadata": {},
   "outputs": [],
   "source": []
  },
  {
   "cell_type": "code",
   "execution_count": 40,
   "metadata": {},
   "outputs": [
    {
     "data": {
      "text/html": [
       "<div>\n",
       "<style scoped>\n",
       "    .dataframe tbody tr th:only-of-type {\n",
       "        vertical-align: middle;\n",
       "    }\n",
       "\n",
       "    .dataframe tbody tr th {\n",
       "        vertical-align: top;\n",
       "    }\n",
       "\n",
       "    .dataframe thead th {\n",
       "        text-align: right;\n",
       "    }\n",
       "</style>\n",
       "<table border=\"1\" class=\"dataframe\">\n",
       "  <thead>\n",
       "    <tr style=\"text-align: right;\">\n",
       "      <th></th>\n",
       "      <th>year</th>\n",
       "      <th>neighborhood</th>\n",
       "      <th>sale_price_sqr_foot</th>\n",
       "      <th>housing_units</th>\n",
       "      <th>gross_rent</th>\n",
       "    </tr>\n",
       "  </thead>\n",
       "  <tbody>\n",
       "    <tr>\n",
       "      <th>0</th>\n",
       "      <td>2010</td>\n",
       "      <td>Alamo Square</td>\n",
       "      <td>291.182945</td>\n",
       "      <td>372560</td>\n",
       "      <td>1239</td>\n",
       "    </tr>\n",
       "    <tr>\n",
       "      <th>1</th>\n",
       "      <td>2010</td>\n",
       "      <td>Anza Vista</td>\n",
       "      <td>267.932583</td>\n",
       "      <td>372560</td>\n",
       "      <td>1239</td>\n",
       "    </tr>\n",
       "    <tr>\n",
       "      <th>2</th>\n",
       "      <td>2010</td>\n",
       "      <td>Bayview</td>\n",
       "      <td>170.098665</td>\n",
       "      <td>372560</td>\n",
       "      <td>1239</td>\n",
       "    </tr>\n",
       "    <tr>\n",
       "      <th>3</th>\n",
       "      <td>2010</td>\n",
       "      <td>Buena Vista Park</td>\n",
       "      <td>347.394919</td>\n",
       "      <td>372560</td>\n",
       "      <td>1239</td>\n",
       "    </tr>\n",
       "    <tr>\n",
       "      <th>4</th>\n",
       "      <td>2010</td>\n",
       "      <td>Central Richmond</td>\n",
       "      <td>319.027623</td>\n",
       "      <td>372560</td>\n",
       "      <td>1239</td>\n",
       "    </tr>\n",
       "    <tr>\n",
       "      <th>...</th>\n",
       "      <td>...</td>\n",
       "      <td>...</td>\n",
       "      <td>...</td>\n",
       "      <td>...</td>\n",
       "      <td>...</td>\n",
       "    </tr>\n",
       "    <tr>\n",
       "      <th>392</th>\n",
       "      <td>2016</td>\n",
       "      <td>Telegraph Hill</td>\n",
       "      <td>903.049771</td>\n",
       "      <td>384242</td>\n",
       "      <td>4390</td>\n",
       "    </tr>\n",
       "    <tr>\n",
       "      <th>393</th>\n",
       "      <td>2016</td>\n",
       "      <td>Twin Peaks</td>\n",
       "      <td>970.085470</td>\n",
       "      <td>384242</td>\n",
       "      <td>4390</td>\n",
       "    </tr>\n",
       "    <tr>\n",
       "      <th>394</th>\n",
       "      <td>2016</td>\n",
       "      <td>Van Ness/ Civic Center</td>\n",
       "      <td>552.602567</td>\n",
       "      <td>384242</td>\n",
       "      <td>4390</td>\n",
       "    </tr>\n",
       "    <tr>\n",
       "      <th>395</th>\n",
       "      <td>2016</td>\n",
       "      <td>Visitacion Valley</td>\n",
       "      <td>328.319007</td>\n",
       "      <td>384242</td>\n",
       "      <td>4390</td>\n",
       "    </tr>\n",
       "    <tr>\n",
       "      <th>396</th>\n",
       "      <td>2016</td>\n",
       "      <td>Westwood Park</td>\n",
       "      <td>631.195426</td>\n",
       "      <td>384242</td>\n",
       "      <td>4390</td>\n",
       "    </tr>\n",
       "  </tbody>\n",
       "</table>\n",
       "<p>397 rows × 5 columns</p>\n",
       "</div>"
      ],
      "text/plain": [
       "     year            neighborhood  sale_price_sqr_foot  housing_units  \\\n",
       "0    2010            Alamo Square           291.182945         372560   \n",
       "1    2010              Anza Vista           267.932583         372560   \n",
       "2    2010                 Bayview           170.098665         372560   \n",
       "3    2010        Buena Vista Park           347.394919         372560   \n",
       "4    2010        Central Richmond           319.027623         372560   \n",
       "..    ...                     ...                  ...            ...   \n",
       "392  2016          Telegraph Hill           903.049771         384242   \n",
       "393  2016              Twin Peaks           970.085470         384242   \n",
       "394  2016  Van Ness/ Civic Center           552.602567         384242   \n",
       "395  2016       Visitacion Valley           328.319007         384242   \n",
       "396  2016           Westwood Park           631.195426         384242   \n",
       "\n",
       "     gross_rent  \n",
       "0          1239  \n",
       "1          1239  \n",
       "2          1239  \n",
       "3          1239  \n",
       "4          1239  \n",
       "..          ...  \n",
       "392        4390  \n",
       "393        4390  \n",
       "394        4390  \n",
       "395        4390  \n",
       "396        4390  \n",
       "\n",
       "[397 rows x 5 columns]"
      ]
     },
     "execution_count": 40,
     "metadata": {},
     "output_type": "execute_result"
    }
   ],
   "source": [
    "# Import the necessary CSVs to Pandas DataFrames\n",
    "nb_coordinates = pd.read_csv(\n",
    "    Path(\"neighborhoods_coordinates.csv\")\n",
    " )\n",
    "nb_coordinates\n",
    "\n",
    "sfo_neighborhoods_census = pd.read_csv(\n",
    "    Path(\"sfo_neighborhoods_census_data.csv\"), \n",
    "    index_col='year'\n",
    ")\n",
    "\n",
    "sfo_neighborhoods_census = sfo_neighborhoods_census.reset_index()\n",
    "\n",
    "sfo_neighborhoods_census"
   ]
  },
  {
   "cell_type": "code",
   "execution_count": null,
   "metadata": {},
   "outputs": [],
   "source": []
  },
  {
   "cell_type": "markdown",
   "metadata": {},
   "source": [
    "- - -"
   ]
  },
  {
   "cell_type": "markdown",
   "metadata": {},
   "source": [
    "## Panel Visualizations\n",
    "\n",
    "In this section, you will copy the code for each plot type from your analysis notebook and place it into separate functions that Panel can use to create panes for the dashboard. \n",
    "\n",
    "These functions will convert the plot object to a Panel pane.\n",
    "\n",
    "Be sure to include any DataFrame transformation/manipulation code required along with the plotting code.\n",
    "\n",
    "Return a Panel pane object from each function that can be used to build the dashboard.\n",
    "\n",
    "Note: Remove any `.show()` lines from the code. We want to return the plots instead of showing them. The Panel dashboard will then display the plots."
   ]
  },
  {
   "cell_type": "code",
   "execution_count": 41,
   "metadata": {},
   "outputs": [],
   "source": [
    "# Define Panel Visualization Functions\n",
    "def housing_units_per_year():\n",
    "    \n",
    "    sfo_neighborhoods_census = pd.read_csv(\n",
    "    Path(\"sfo_neighborhoods_census_data.csv\")\n",
    "    )\n",
    "    sfo_neighborhoods_census = sfo_neighborhoods_census.reset_index()\n",
    "    sf_housing_units_mean = sfo_neighborhoods_census['housing_units'].groupby(sfo_neighborhoods_census['year']).mean()\n",
    "    min = sfo_neighborhoods_census.min()['housing_units']\n",
    "    max = sfo_neighborhoods_census.max()['housing_units']\n",
    "    \n",
    "    housing_plot = sf_housing_units_mean.plot.bar(\n",
    "    ylim=(min-3000, max + 3000), \n",
    "    title= \"SF Mean Housing Units Sold 2010-2016\", figsize = (12,8))\n",
    "    \n",
    "    \n",
    "    return housing_plot\n",
    "\n",
    "def average_gross_rent():\n",
    "    sfo_neighborhoods_census = pd.read_csv(\n",
    "    Path(\"sfo_neighborhoods_census_data.csv\")\n",
    "    )\n",
    "    sfo_neighborhoods_census = sfo_neighborhoods_census.reset_index()\n",
    "    \n",
    "    average_sale_price_df = sfo_neighborhoods_census['gross_rent'].groupby(sfo_neighborhoods_census['year']).mean()\n",
    "    \n",
    "    average_rent_plot = average_sale_price_df.plot.line(title=\"Average Gross Rent in SF per year\")\n",
    "  \n",
    "    return average_rent_plot\n",
    "\n",
    "\n",
    "\n",
    "\n",
    "def average_sales_price():\n",
    "    \n",
    "    sfo_neighborhoods_census = pd.read_csv(\n",
    "    Path(\"sfo_neighborhoods_census_data.csv\")\n",
    "    )\n",
    "    sfo_neighborhoods_census = sfo_neighborhoods_census.reset_index()\n",
    "    \n",
    "    average_sale_price_df = sfo_neighborhoods_census['sale_price_sqr_foot'].groupby(sfo_neighborhoods_census['year']).mean()\n",
    "    \n",
    "    average_price_plot = average_sale_price_df.plot.line(title=\"Average Sales Price per Year\")\n",
    "  \n",
    "    return average_price_plot\n",
    "\n",
    "      \n",
    "def most_expensive_neighborhoods_rent_sales():\n",
    "    \"\"\"Comparison of Rent and Sales Prices of Most Expensive Neighborhoods.\"\"\"   \n",
    "    avg_price_neighborhood_data = sfo_neighborhoods_census.groupby(['year','neighborhood']).mean() \n",
    "    \n",
    "    avg_price_neighborhood_data = avg_price_neighborhood_data.hvplot.bar(\"year\", [\"sale_price_sqr_foot\", \"gross_rent\"], groupby= \"neighborhood\", width= 1700, height= 500)\n",
    "    \n",
    "\n",
    "    return avg_price_neighborhood_data\n",
    "    \n",
    "\n",
    "\n",
    "def parallel_coordinates():\n",
    "    \"\"\"Parallel Coordinates Plot.\"\"\"\n",
    " \n",
    "    \n",
    "    avg_value_per_neighborhood = sfo_neighborhoods_census.groupby([sfo_neighborhoods_census[\"neighborhood\"]]).mean()  \n",
    "    \n",
    "    top_ten_expensive_neighborhood = avg_value_per_neighborhood.nlargest(10, 'sale_price_sqr_foot').reset_index()\n",
    "    \n",
    "    top_ten_parallel_coordinates = px.parallel_coordinates(\n",
    "        top_ten_expensive_neighborhood,\n",
    "        color=\"sale_price_sqr_foot\",\n",
    "        title=\"Parallel Coordinates of Most Expensive Neighborhoods in San Francisco\"\n",
    "    )\n",
    "    \n",
    "    return top_ten_parallel_coordinates\n",
    "\n",
    "\n",
    "\n",
    "def parallel_categories():\n",
    "    \"\"\"Parallel Categories Plot.\"\"\"\n",
    "    \n",
    "    avg_value_per_neighborhood = sfo_neighborhoods_census.groupby([sfo_neighborhoods_census[\"neighborhood\"]]).mean()  \n",
    "    top_ten_expensive_neighborhood = avg_value_per_neighborhood.nlargest(10, 'sale_price_sqr_foot').reset_index()     #I could have done sort_values(ascending=False, by = 'sale_price_sqr_foot' like in the rental analysis but it gives an error\n",
    "                                                                                                                                \n",
    "    \n",
    "    top_ten_parallel_categories = px.parallel_categories(\n",
    "    top_ten_expensive_neighborhood,\n",
    "    dimensions=[\"neighborhood\", \"sale_price_sqr_foot\", \"housing_units\", \"gross_rent\"],\n",
    "    color=\"sale_price_sqr_foot\",\n",
    "    color_continuous_scale=px.colors.sequential.Inferno,\n",
    ")\n",
    "    \n",
    "    return top_ten_parallel_categories\n",
    "\n",
    "\n",
    "def neighborhood_map():\n",
    "    neighborhood_location_df = pd.read_csv(\n",
    "        Path(\"neighborhoods_coordinates.csv\")\n",
    "    )\n",
    "    avg_value_neighborhood = sfo_neighborhoods_census.groupby([sfo_neighborhoods_census[\"neighborhood\"]]).mean()  \n",
    "    avg_value_neighborhood = avg_value_neighborhood.reset_index()\n",
    "    avg_value_location_combined = pd.concat([avg_value_neighborhood, neighborhood_location_df], axis=\"columns\", join=\"inner\")\n",
    "\n",
    "    location_mapbox = px.scatter_mapbox(\n",
    "    avg_value_location_combined,\n",
    "    lat=\"Lat\",\n",
    "    lon=\"Lon\",\n",
    "    size=\"sale_price_sqr_foot\",\n",
    "    color=\"gross_rent\",\n",
    "    color_continuous_scale=px.colors.cyclical.Edge,\n",
    "    title=\"Average rent by neighborhood in SF\",\n",
    "    zoom=11,\n",
    "    width=800,\n",
    ")\n",
    "    return location_mapbox\n",
    "\n",
    "def average_price_by_neighborhood():\n",
    "    sfo_neighborhoods_census = pd.read_csv(\n",
    "    Path(\"sfo_neighborhoods_census_data.csv\"), \n",
    "    index_col='year'\n",
    "    )\n",
    "\n",
    "    new_sfo_data = sfo_neighborhoods_census.groupby([\"year\", \"neighborhood\"]).mean()\n",
    "\n",
    "    new_sfo_data = pd.DataFrame(new_sfo_data)\n",
    "\n",
    "    new_sfo_data = new_sfo_data['gross_rent'].hvplot(\n",
    "        xlabel='year',\n",
    "        ylabel='gross rent',\n",
    "        label=' ',\n",
    "        groupby='neighborhood',\n",
    "        height=300,\n",
    "        width=600,\n",
    "    )\n",
    "\n",
    "    return new_sfo_data\n",
    "  \n",
    "  \n",
    "  \n",
    "\n",
    "\n",
    "  \n",
    "def top_most_expensive_neighborhoods():\n",
    "  \n",
    "    \"\"\"Top 10 Most Expensive Neighborhoods.\"\"\"\n",
    "    top_most_expensive = sfo_neighborhoods_census.groupby(sfo_neighborhoods_census['neighborhood']).mean().sort_values(ascending=False, by= 'sale_price_sqr_foot').head(10).drop('year', axis=1)\n",
    "    \n",
    "    top_most_expensive = top_most_expensive.reset_index()\n",
    "    \n",
    "    top_most_expensive_df_plot = pd.DataFrame(top_most_expensive)\n",
    "    \n",
    "    top_most_expensive_df_plot = top_most_expensive_df_plot.hvplot.bar(\n",
    "        x= \"neighborhood\",\n",
    "        y= \"sale_price_sqr_foot\",\n",
    "        title= \"10 Most Expensive Neighborhoods in San Francisco, CA\",\n",
    "        height=350,\n",
    "        rot= 45\n",
    "    )\n",
    "\n",
    "    \n",
    "    return top_most_expensive_df_plot  \n",
    "\n",
    "\n",
    "\n",
    "\n",
    "def sunburst():\n",
    "\n",
    "    df_expensive_neighborhoods_per_year = sfo_neighborhoods_census.sort_values(ascending=False, by ='sale_price_sqr_foot') \n",
    "    \n",
    "    sunburst_data= px.sunburst(\n",
    "        df_expensive_neighborhoods_per_year,\n",
    "        path = [\"year\",\"neighborhood\"],\n",
    "        values = \"sale_price_sqr_foot\",\n",
    "        color=\"gross_rent\", \n",
    "        hover_data=[\"gross_rent\"],\n",
    "        color_continuous_scale=\"blues\",\n",
    "        height = 700\n",
    "        \n",
    "    )\n",
    "    return sunburst_data\n",
    "\n",
    "\n",
    "    \n",
    "   \n"
   ]
  },
  {
   "cell_type": "markdown",
   "metadata": {},
   "source": [
    "## Panel Dashboard\n",
    "\n",
    "In this section, you will combine all of the plots into a single dashboard view using Panel. Be creative with your dashboard design!"
   ]
  },
  {
   "cell_type": "code",
   "execution_count": null,
   "metadata": {},
   "outputs": [],
   "source": []
  },
  {
   "cell_type": "markdown",
   "metadata": {},
   "source": [
    "## Serve the Panel Dashboard"
   ]
  },
  {
   "cell_type": "code",
   "execution_count": 42,
   "metadata": {},
   "outputs": [
    {
     "data": {
      "image/png": "[encoded data removed]",
      "text/plain": [
       "<Figure size 864x576 with 1 Axes>"
      ]
     },
     "metadata": {
      "needs_background": "light"
     },
     "output_type": "display_data"
    }
   ],
   "source": [
    "title = \"Real Estate Data of San Francisco from 2010-2016\"\n",
    "\n",
    "\n",
    "# Create a tab layout for the dashboard\n",
    "#welcome = pn.Row(pn.Column(title), neighborhood_maps())\n",
    "welcome_tab = pn.Row(pn.Column(title), neighborhood_map())\n",
    "yearly_market_analysis_tab = pn.Column(housing_units_per_year(), average_gross_rent(), average_sales_price())\n",
    "\n",
    "neighborhood_analyis_tab = pn.Column(average_price_by_neighborhood(), top_most_expensive_neighborhoods())\n",
    "\n",
    "parallel_plots_analysis_tab = pn.Column(\n",
    "    parallel_categories(),\n",
    "    parallel_coordinates()\n",
    ")\n",
    "\n",
    "sunburst_tab = pn.Column(sunburst())\n",
    "\n",
    "\n",
    "# Create the dashboard\n",
    "san_francisco_dashboard = pn.Tabs((\"Welcome\", welcome_tab),\n",
    "    (\"Yearly Market Analysis\", yearly_market_analysis_tab),\n",
    "    (\"Neighborhood Analysis\", neighborhood_analyis_tab),\n",
    "    (\"Interactive Market Analysis by Neighborhood\", parallel_plots_analysis_tab),\n",
    "    (\"Sunburst\", sunburst_tab)\n",
    ")\n",
    "\n",
    "\n",
    "sf_market_plots = pn.Column(\n",
    "    '## San Francisco housing market overview',\n",
    "    housing_units_per_year(),\n",
    "    average_gross_rent(),\n",
    "    average_sales_price()\n",
    ")\n",
    "\n",
    "neighborhood_plots = pn.Column(\n",
    "    '## San Francisco neighborhoods overview',\n",
    "    average_price_by_neighborhood(),\n",
    "    top_most_expensive_neighborhoods(),\n",
    ")\n",
    "\n",
    "\n",
    "neighborhood_maps = pn.Column(\n",
    "    '## Neighborhood maps',\n",
    "    neighborhood_map()\n",
    ")\n",
    "\n",
    "\n",
    "parallel_plots = pn.Column(\n",
    "    '## Parallel plots',\n",
    "    parallel_categories(),\n",
    "    parallel_coordinates(),\n",
    ")\n"
   ]
  },
  {
   "cell_type": "code",
   "execution_count": 43,
   "metadata": {},
   "outputs": [
    {
     "data": {
      "application/vnd.jupyter.widget-view+json": {
       "model_id": "99f33d060f7040a7bdb4fc846ebda59f",
       "version_major": 2,
       "version_minor": 0
      },
      "text/plain": [
       "BokehModel(combine_events=True, render_bundle={'docs_json': {'7b4dc2c1-f394-4b8b-9b3c-ab394844c6c4': {'defs': …"
      ]
     },
     "metadata": {},
     "output_type": "display_data"
    },
    {
     "data": {
      "text/html": [
       "<div style=\"display: none\"></div>"
      ],
      "text/plain": [
       "Tabs\n",
       "    [0] Row\n",
       "        [0] Column\n",
       "            [0] Markdown(str)\n",
       "        [1] Plotly(Figure)\n",
       "    [1] Column\n",
       "        [0] Str(AxesSubplot)\n",
       "        [1] Str(AxesSubplot)\n",
       "        [2] Str(AxesSubplot)\n",
       "    [2] Column\n",
       "        [0] Row\n",
       "            [0] HoloViews(DynamicMap)\n",
       "            [1] Column\n",
       "                [0] WidgetBox\n",
       "                    [0] Select(margin=(20, 20, 20, 20), name='neighborhood', options=['Alamo Square', ...], value='Alamo Square', width=250)\n",
       "                [1] VSpacer()\n",
       "        [1] HoloViews(Bars)\n",
       "    [3] Column\n",
       "        [0] Plotly(Figure)\n",
       "        [1] Plotly(Figure)\n",
       "    [4] Column\n",
       "        [0] Plotly(Figure)"
      ]
     },
     "execution_count": 43,
     "metadata": {},
     "output_type": "execute_result"
    }
   ],
   "source": [
    "# Serve the# dashboard\n",
    "san_francisco_dashboard.servable()"
   ]
  },
  {
   "cell_type": "markdown",
   "metadata": {},
   "source": [
    "# Debugging\n",
    "\n",
    "Note: Some of the Plotly express plots may not render in the notebook through the panel functions.\n",
    "\n",
    "However, you can test each plot by uncommenting the following code"
   ]
  },
  {
   "cell_type": "code",
   "execution_count": 44,
   "metadata": {},
   "outputs": [
    {
     "data": {
      "text/plain": [
       "<AxesSubplot:title={'center':'SF Mean Housing Units Sold 2010-2016'}, xlabel='year'>"
      ]
     },
     "execution_count": 44,
     "metadata": {},
     "output_type": "execute_result"
    },
    {
     "data": {
      "image/png": "[encoded data removed]",
      "text/plain": [
       "<Figure size 864x576 with 1 Axes>"
      ]
     },
     "metadata": {
      "needs_background": "light"
     },
     "output_type": "display_data"
    }
   ],
   "source": [
    "# housing_units_per_year()\n",
    "def housing_units_per_year():\n",
    "    \n",
    "    sfo_neighborhoods_census = pd.read_csv(\n",
    "    Path(\"sfo_neighborhoods_census_data.csv\")\n",
    "    )\n",
    "    sfo_neighborhoods_census = sfo_neighborhoods_census.reset_index()\n",
    "    sf_housing_units_mean = sfo_neighborhoods_census['housing_units'].groupby(sfo_neighborhoods_census['year']).mean()\n",
    "    min = sfo_neighborhoods_census.min()['housing_units']\n",
    "    max = sfo_neighborhoods_census.max()['housing_units']\n",
    "    \n",
    "    housing_plot = sf_housing_units_mean.plot.bar(\n",
    "    ylim=(min-3000, max + 3000), \n",
    "    title= \"SF Mean Housing Units Sold 2010-2016\", figsize = (12,8))\n",
    "    \n",
    "    \n",
    "    return housing_plot\n",
    "\n",
    "housing_units_per_year()"
   ]
  },
  {
   "cell_type": "code",
   "execution_count": 45,
   "metadata": {},
   "outputs": [
    {
     "data": {
      "text/plain": [
       "<AxesSubplot:title={'center':'Average Gross Rent in SF per year'}, xlabel='year'>"
      ]
     },
     "execution_count": 45,
     "metadata": {},
     "output_type": "execute_result"
    },
    {
     "data": {
      "image/png": "[encoded data removed]",
      "text/plain": [
       "<Figure size 432x288 with 1 Axes>"
      ]
     },
     "metadata": {
      "needs_background": "light"
     },
     "output_type": "display_data"
    }
   ],
   "source": [
    "# average_gross_rent()\n",
    "\n",
    "\n",
    "def average_gross_rent():\n",
    "    sfo_neighborhoods_census = pd.read_csv(\n",
    "    Path(\"sfo_neighborhoods_census_data.csv\")\n",
    "    )\n",
    "    sfo_neighborhoods_census = sfo_neighborhoods_census.reset_index()\n",
    "    \n",
    "    average_sale_price_df = sfo_neighborhoods_census['gross_rent'].groupby(sfo_neighborhoods_census['year']).mean()\n",
    "    \n",
    "    average_rent_plot = average_sale_price_df.plot.line(title=\"Average Gross Rent in SF per year\")\n",
    "  \n",
    "    return average_rent_plot\n",
    "average_gross_rent()"
   ]
  },
  {
   "cell_type": "code",
   "execution_count": 46,
   "metadata": {},
   "outputs": [
    {
     "data": {
      "text/plain": [
       "<AxesSubplot:title={'center':'Average Sales Price per Year'}, xlabel='year'>"
      ]
     },
     "execution_count": 46,
     "metadata": {},
     "output_type": "execute_result"
    },
    {
     "data": {
      "image/png": "[encoded data removed]",
      "text/plain": [
       "<Figure size 432x288 with 1 Axes>"
      ]
     },
     "metadata": {
      "needs_background": "light"
     },
     "output_type": "display_data"
    }
   ],
   "source": [
    "# average_sales_price()\n",
    "def average_sales_price():\n",
    "    \n",
    "    sfo_neighborhoods_census = pd.read_csv(\n",
    "    Path(\"sfo_neighborhoods_census_data.csv\")\n",
    "    )\n",
    "    sfo_neighborhoods_census = sfo_neighborhoods_census.reset_index()\n",
    "    \n",
    "    average_sale_price_df = sfo_neighborhoods_census['sale_price_sqr_foot'].groupby(sfo_neighborhoods_census['year']).mean()\n",
    "    \n",
    "    average_price_plot = average_sale_price_df.plot.line(title=\"Average Sales Price per Year\")\n",
    "  \n",
    "    return average_price_plot\n",
    "\n",
    "average_sales_price()\n",
    "\n",
    "\n",
    "\n"
   ]
  },
  {
   "cell_type": "code",
   "execution_count": 47,
   "metadata": {},
   "outputs": [
    {
     "data": {
      "application/vnd.jupyter.widget-view+json": {
       "model_id": "9948070e33c743e2a9fefe78a7678420",
       "version_major": 2,
       "version_minor": 0
      },
      "text/plain": [
       "BokehModel(combine_events=True, render_bundle={'docs_json': {'630dd718-e50e-4597-9d6d-22618c07a17a': {'defs': …"
      ]
     },
     "metadata": {},
     "output_type": "display_data"
    },
    {
     "data": {
      "text/html": [
       "<div style=\"display: none\"></div>"
      ],
      "text/plain": [
       ":DynamicMap   [neighborhood]\n",
       "   :Curve   [year]   (gross_rent)"
      ]
     },
     "execution_count": 47,
     "metadata": {},
     "output_type": "execute_result"
    }
   ],
   "source": [
    "# average_price_by_neighborhood()\n",
    "def average_price_by_neighborhood():\n",
    "    sfo_neighborhoods_census = pd.read_csv(\n",
    "    Path(\"sfo_neighborhoods_census_data.csv\"), \n",
    "    index_col='year'\n",
    "    )\n",
    "\n",
    "    new_sfo_data = sfo_neighborhoods_census.groupby([\"year\", \"neighborhood\"]).mean()\n",
    "\n",
    "    new_sfo_data = pd.DataFrame(new_sfo_data)\n",
    "\n",
    "    new_sfo_data = new_sfo_data['gross_rent'].hvplot(\n",
    "        xlabel='year',\n",
    "        ylabel='gross rent',\n",
    "        label=' ',\n",
    "        groupby='neighborhood',\n",
    "        height=300,\n",
    "        width=600,\n",
    "    )\n",
    "\n",
    "    return new_sfo_data\n",
    "\n",
    "average_price_by_neighborhood()\n"
   ]
  },
  {
   "cell_type": "code",
   "execution_count": 48,
   "metadata": {},
   "outputs": [
    {
     "data": {},
     "metadata": {},
     "output_type": "display_data"
    },
    {
     "data": {
      "application/vnd.holoviews_exec.v0+json": "",
      "text/html": [
       "<div id='3646'>\n",
       "\n",
       "\n",
       "\n",
       "\n",
       "\n",
       "  <div class=\"bk-root\" id=\"b860b817-7867-47af-ad41-8ce9b9dba900\" data-root-id=\"3646\"></div>\n",
       "</div>\n",
       "<script type=\"application/javascript\">(function(root) {\n",
       "  function embed_document(root) {\n",
       "    var docs_json = {\"9a73f984-cc45-4b32-b11a-897c2f71bb78\":{\"defs\":[{\"extends\":null,\"module\":null,\"name\":\"ReactiveHTML1\",\"overrides\":[],\"properties\":[]},{\"extends\":null,\"module\":null,\"name\":\"FlexBox1\",\"overrides\":[],\"properties\":[{\"default\":\"flex-start\",\"kind\":null,\"name\":\"align_content\"},{\"default\":\"flex-start\",\"kind\":null,\"name\":\"align_items\"},{\"default\":\"row\",\"kind\":null,\"name\":\"flex_direction\"},{\"default\":\"wrap\",\"kind\":null,\"name\":\"flex_wrap\"},{\"default\":\"flex-start\",\"kind\":null,\"name\":\"justify_content\"}]},{\"extends\":null,\"module\":null,\"name\":\"TemplateActions1\",\"overrides\":[],\"properties\":[{\"default\":0,\"kind\":null,\"name\":\"open_modal\"},{\"default\":0,\"kind\":null,\"name\":\"close_modal\"}]},{\"extends\":null,\"module\":null,\"name\":\"MaterialTemplateActions1\",\"overrides\":[],\"properties\":[{\"default\":0,\"kind\":null,\"name\":\"open_modal\"},{\"default\":0,\"kind\":null,\"name\":\"close_modal\"}]}],\"roots\":{\"references\":[{\"attributes\":{\"axis\":{\"id\":\"3660\"},\"coordinates\":null,\"grid_line_color\":null,\"group\":null,\"ticker\":null},\"id\":\"3662\",\"type\":\"Grid\"},{\"attributes\":{\"fill_alpha\":{\"value\":0.2},\"fill_color\":{\"value\":\"#30a2da\"},\"hatch_alpha\":{\"value\":0.2},\"hatch_color\":{\"value\":\"#30a2da\"},\"line_alpha\":{\"value\":0.2},\"top\":{\"field\":\"sale_price_sqr_foot\"},\"width\":{\"value\":0.8},\"x\":{\"field\":\"neighborhood\"}},\"id\":\"3685\",\"type\":\"VBar\"},{\"attributes\":{},\"id\":\"3664\",\"type\":\"BasicTicker\"},{\"attributes\":{},\"id\":\"3661\",\"type\":\"CategoricalTicker\"},{\"attributes\":{\"axis_label\":\"sale_price_sqr_foot\",\"coordinates\":null,\"formatter\":{\"id\":\"3693\"},\"group\":null,\"major_label_policy\":{\"id\":\"3694\"},\"ticker\":{\"id\":\"3664\"}},\"id\":\"3663\",\"type\":\"LinearAxis\"},{\"attributes\":{\"children\":[{\"id\":\"3647\"},{\"id\":\"3651\"},{\"id\":\"3715\"}],\"margin\":[0,0,0,0],\"name\":\"Row05059\",\"tags\":[\"embedded\"]},\"id\":\"3646\",\"type\":\"Row\"},{\"attributes\":{\"axis\":{\"id\":\"3663\"},\"coordinates\":null,\"dimension\":1,\"grid_line_color\":null,\"group\":null,\"ticker\":null},\"id\":\"3666\",\"type\":\"Grid\"},{\"attributes\":{\"bottom\":{\"value\":0},\"fill_alpha\":{\"value\":1.0},\"fill_color\":{\"value\":\"#30a2da\"},\"hatch_alpha\":{\"value\":1.0},\"hatch_color\":{\"value\":\"#30a2da\"},\"hatch_scale\":{\"value\":12.0},\"hatch_weight\":{\"value\":1.0},\"line_alpha\":{\"value\":1.0},\"line_cap\":{\"value\":\"butt\"},\"line_color\":{\"value\":\"black\"},\"line_dash\":{\"value\":[]},\"line_dash_offset\":{\"value\":0},\"line_join\":{\"value\":\"bevel\"},\"line_width\":{\"value\":1},\"top\":{\"field\":\"sale_price_sqr_foot\"},\"width\":{\"value\":0.8},\"x\":{\"field\":\"neighborhood\"}},\"id\":\"3688\",\"type\":\"VBar\"},{\"attributes\":{},\"id\":\"3693\",\"type\":\"BasicTickFormatter\"},{\"attributes\":{},\"id\":\"3690\",\"type\":\"CategoricalTickFormatter\"},{\"attributes\":{\"below\":[{\"id\":\"3660\"}],\"center\":[{\"id\":\"3662\"},{\"id\":\"3666\"}],\"height\":350,\"left\":[{\"id\":\"3663\"}],\"margin\":[5,5,5,5],\"min_border_bottom\":10,\"min_border_left\":10,\"min_border_right\":10,\"min_border_top\":10,\"renderers\":[{\"id\":\"3686\"}],\"sizing_mode\":\"fixed\",\"title\":{\"id\":\"3652\"},\"toolbar\":{\"id\":\"3673\"},\"width\":700,\"x_range\":{\"id\":\"3648\"},\"x_scale\":{\"id\":\"3656\"},\"y_range\":{\"id\":\"3649\"},\"y_scale\":{\"id\":\"3658\"}},\"id\":\"3651\",\"subtype\":\"Figure\",\"type\":\"Plot\"},{\"attributes\":{\"margin\":[5,5,5,5],\"name\":\"HSpacer05064\",\"sizing_mode\":\"stretch_width\"},\"id\":\"3715\",\"type\":\"Spacer\"},{\"attributes\":{\"source\":{\"id\":\"3680\"}},\"id\":\"3687\",\"type\":\"CDSView\"},{\"attributes\":{},\"id\":\"3694\",\"type\":\"AllLabels\"},{\"attributes\":{\"coordinates\":null,\"data_source\":{\"id\":\"3680\"},\"glyph\":{\"id\":\"3683\"},\"group\":null,\"hover_glyph\":null,\"muted_glyph\":{\"id\":\"3685\"},\"nonselection_glyph\":{\"id\":\"3684\"},\"selection_glyph\":{\"id\":\"3688\"},\"view\":{\"id\":\"3687\"}},\"id\":\"3686\",\"type\":\"GlyphRenderer\"},{\"attributes\":{\"tools\":[{\"id\":\"3650\"},{\"id\":\"3667\"},{\"id\":\"3668\"},{\"id\":\"3669\"},{\"id\":\"3670\"},{\"id\":\"3671\"}]},\"id\":\"3673\",\"type\":\"Toolbar\"},{\"attributes\":{\"axis_label\":\"neighborhood\",\"coordinates\":null,\"formatter\":{\"id\":\"3690\"},\"group\":null,\"major_label_orientation\":0.7853981633974483,\"major_label_policy\":{\"id\":\"3691\"},\"ticker\":{\"id\":\"3661\"}},\"id\":\"3660\",\"type\":\"CategoricalAxis\"},{\"attributes\":{},\"id\":\"3702\",\"type\":\"UnionRenderers\"},{\"attributes\":{\"fill_color\":{\"value\":\"#30a2da\"},\"hatch_color\":{\"value\":\"#30a2da\"},\"top\":{\"field\":\"sale_price_sqr_foot\"},\"width\":{\"value\":0.8},\"x\":{\"field\":\"neighborhood\"}},\"id\":\"3683\",\"type\":\"VBar\"},{\"attributes\":{},\"id\":\"3691\",\"type\":\"AllLabels\"},{\"attributes\":{\"bottom_units\":\"screen\",\"coordinates\":null,\"fill_alpha\":0.5,\"fill_color\":\"lightgrey\",\"group\":null,\"left_units\":\"screen\",\"level\":\"overlay\",\"line_alpha\":1.0,\"line_color\":\"black\",\"line_dash\":[4,4],\"line_width\":2,\"right_units\":\"screen\",\"syncable\":false,\"top_units\":\"screen\"},\"id\":\"3672\",\"type\":\"BoxAnnotation\"},{\"attributes\":{\"margin\":[5,5,5,5],\"name\":\"HSpacer05063\",\"sizing_mode\":\"stretch_width\"},\"id\":\"3647\",\"type\":\"Spacer\"},{\"attributes\":{\"callback\":null,\"renderers\":[{\"id\":\"3686\"}],\"tags\":[\"hv_created\"],\"tooltips\":[[\"neighborhood\",\"@{neighborhood}\"],[\"sale_price_sqr_foot\",\"@{sale_price_sqr_foot}\"]]},\"id\":\"3650\",\"type\":\"HoverTool\"},{\"attributes\":{},\"id\":\"3667\",\"type\":\"SaveTool\"},{\"attributes\":{},\"id\":\"3668\",\"type\":\"PanTool\"},{\"attributes\":{},\"id\":\"3671\",\"type\":\"ResetTool\"},{\"attributes\":{\"end\":929.3801355198136,\"reset_end\":929.3801355198136,\"reset_start\":0.0,\"tags\":[[[\"sale_price_sqr_foot\",\"sale_price_sqr_foot\",null]]]},\"id\":\"3649\",\"type\":\"Range1d\"},{\"attributes\":{\"fill_alpha\":{\"value\":0.1},\"fill_color\":{\"value\":\"#30a2da\"},\"hatch_alpha\":{\"value\":0.1},\"hatch_color\":{\"value\":\"#30a2da\"},\"line_alpha\":{\"value\":0.1},\"top\":{\"field\":\"sale_price_sqr_foot\"},\"width\":{\"value\":0.8},\"x\":{\"field\":\"neighborhood\"}},\"id\":\"3684\",\"type\":\"VBar\"},{\"attributes\":{},\"id\":\"3669\",\"type\":\"WheelZoomTool\"},{\"attributes\":{},\"id\":\"3681\",\"type\":\"Selection\"},{\"attributes\":{\"overlay\":{\"id\":\"3672\"}},\"id\":\"3670\",\"type\":\"BoxZoomTool\"},{\"attributes\":{},\"id\":\"3658\",\"type\":\"LinearScale\"},{\"attributes\":{},\"id\":\"3656\",\"type\":\"CategoricalScale\"},{\"attributes\":{\"data\":{\"neighborhood\":[\"Union Square District\",\"Merced Heights\",\"Miraloma Park\",\"Pacific Heights\",\"Westwood Park\",\"Telegraph Hill\",\"Presidio Heights\",\"Cow Hollow\",\"Potrero Hill\",\"South Beach\"],\"sale_price_sqr_foot\":{\"__ndarray__\":\"JRAUMfI/jEB9IrkvwqaIQFx/3pp8XohAFpsVUHKMhUBr0ERas3iFQL0KhXgNJIVAy835O80ahUALV25bts+EQJrMCuEbsIRAya3y7v5QhEA=\",\"dtype\":\"float64\",\"order\":\"little\",\"shape\":[10]}},\"selected\":{\"id\":\"3681\"},\"selection_policy\":{\"id\":\"3702\"}},\"id\":\"3680\",\"type\":\"ColumnDataSource\"},{\"attributes\":{\"coordinates\":null,\"group\":null,\"text\":\"10 Most Expensive Neighborhoods in San Francisco, CA\",\"text_color\":\"black\",\"text_font_size\":\"12pt\"},\"id\":\"3652\",\"type\":\"Title\"},{\"attributes\":{\"factors\":[\"Union Square District\",\"Merced Heights\",\"Miraloma Park\",\"Pacific Heights\",\"Westwood Park\",\"Telegraph Hill\",\"Presidio Heights\",\"Cow Hollow\",\"Potrero Hill\",\"South Beach\"],\"tags\":[[[\"neighborhood\",\"neighborhood\",null]]]},\"id\":\"3648\",\"type\":\"FactorRange\"}],\"root_ids\":[\"3646\"]},\"title\":\"Bokeh Application\",\"version\":\"2.4.1\"}};\n",
       "    var render_items = [{\"docid\":\"9a73f984-cc45-4b32-b11a-897c2f71bb78\",\"root_ids\":[\"3646\"],\"roots\":{\"3646\":\"b860b817-7867-47af-ad41-8ce9b9dba900\"}}];\n",
       "    root.Bokeh.embed.embed_items_notebook(docs_json, render_items);\n",
       "  }\n",
       "  if (root.Bokeh !== undefined && root.Bokeh.Panel !== undefined && ( root['Plotly'] !== undefined)) {\n",
       "    embed_document(root);\n",
       "  } else {\n",
       "    var attempts = 0;\n",
       "    var timer = setInterval(function(root) {\n",
       "      if (root.Bokeh !== undefined && root.Bokeh.Panel !== undefined && (root['Plotly'] !== undefined)) {\n",
       "        clearInterval(timer);\n",
       "        embed_document(root);\n",
       "      } else if (document.readyState == \"complete\") {\n",
       "        attempts++;\n",
       "        if (attempts > 200) {\n",
       "          clearInterval(timer);\n",
       "          console.log(\"Bokeh: ERROR: Unable to run BokehJS code because BokehJS library is missing\");\n",
       "        }\n",
       "      }\n",
       "    }, 25, root)\n",
       "  }\n",
       "})(window);</script>"
      ],
      "text/plain": [
       ":Bars   [neighborhood]   (sale_price_sqr_foot)"
      ]
     },
     "execution_count": 48,
     "metadata": {
      "application/vnd.holoviews_exec.v0+json": {
       "id": "3646"
      }
     },
     "output_type": "execute_result"
    }
   ],
   "source": [
    "# top_most_expensive_neighborhoods()\n",
    "def top_most_expensive_neighborhoods():\n",
    "  \n",
    "    \"\"\"Top 10 Most Expensive Neighborhoods.\"\"\"\n",
    "    top_most_expensive = sfo_neighborhoods_census.groupby(sfo_neighborhoods_census['neighborhood']).mean().sort_values(ascending=False, by= 'sale_price_sqr_foot').head(10).drop('year', axis=1)\n",
    "    \n",
    "    top_most_expensive = top_most_expensive.reset_index()\n",
    "    \n",
    "    top_most_expensive_df_plot = pd.DataFrame(top_most_expensive)\n",
    "    \n",
    "    top_most_expensive_df_plot = top_most_expensive_df_plot.hvplot.bar(\n",
    "        x= \"neighborhood\",\n",
    "        y= \"sale_price_sqr_foot\",\n",
    "        title= \"10 Most Expensive Neighborhoods in San Francisco, CA\",\n",
    "        height=350,\n",
    "        rot= 45\n",
    "    )\n",
    "\n",
    "    \n",
    "    return top_most_expensive_df_plot  \n",
    "\n",
    "top_most_expensive_neighborhoods()\n",
    "\n"
   ]
  },
  {
   "cell_type": "code",
   "execution_count": 49,
   "metadata": {},
   "outputs": [
    {
     "data": {
      "application/vnd.jupyter.widget-view+json": {
       "model_id": "476ff2a9aa564158a984d532bdf93e5e",
       "version_major": 2,
       "version_minor": 0
      },
      "text/plain": [
       "BokehModel(combine_events=True, render_bundle={'docs_json': {'05013f9f-b7cf-476a-a8c7-cb586c5a0ea8': {'defs': …"
      ]
     },
     "metadata": {},
     "output_type": "display_data"
    },
    {
     "data": {
      "text/html": [
       "<div style=\"display: none\"></div>"
      ],
      "text/plain": [
       ":DynamicMap   [neighborhood]\n",
       "   :Bars   [year,Variable]   (value)"
      ]
     },
     "execution_count": 49,
     "metadata": {},
     "output_type": "execute_result"
    }
   ],
   "source": [
    "# most_expensive_neighborhoods_rent_sales\n",
    "def most_expensive_neighborhoods_rent_sales():\n",
    "    \"\"\"Comparison of Rent and Sales Prices of Most Expensive Neighborhoods.\"\"\"   \n",
    "    avg_price_neighborhood_data = sfo_neighborhoods_census.groupby(['year','neighborhood']).mean() \n",
    "    \n",
    "    avg_price_neighborhood_data = avg_price_neighborhood_data.hvplot.bar(\"year\", [\"sale_price_sqr_foot\", \"gross_rent\"], groupby= \"neighborhood\", width= 1700, height= 500)\n",
    "    \n",
    "\n",
    "    return avg_price_neighborhood_data\n",
    "\n",
    "most_expensive_neighborhoods_rent_sales()"
   ]
  },
  {
   "cell_type": "code",
   "execution_count": null,
   "metadata": {},
   "outputs": [],
   "source": []
  },
  {
   "cell_type": "code",
   "execution_count": 50,
   "metadata": {},
   "outputs": [
    {
     "data": {
      "application/vnd.plotly.v1+json": {
       "config": {
        "plotlyServerURL": "https://plot.ly"
       },
       "data": [
        {
         "dimensions": [
          {
           "label": "year",
           "values": [
            2012.5,
            2014,
            2011.75,
            2013,
            2015,
            2013,
            2013,
            2013,
            2013,
            2011.6666666666667
           ]
          },
          {
           "label": "sale_price_sqr_foot",
           "values": [
            903.9932576720645,
            788.8448175872469,
            779.810842264425,
            689.5558168113664,
            687.0875745178322,
            676.5065775293257,
            675.3502120510033,
            665.9640415783227,
            662.0136128276529,
            650.1244791945729
           ]
          },
          {
           "label": "housing_units",
           "values": [
            377427.5,
            380348,
            375967.25,
            378401,
            382295,
            378401,
            378401,
            378401,
            378401,
            375805
           ]
          },
          {
           "label": "gross_rent",
           "values": [
            2555.1666666666665,
            3414,
            2155.25,
            2817.285714285714,
            3959,
            2817.285714285714,
            2817.285714285714,
            2817.285714285714,
            2817.285714285714,
            2099
           ]
          }
         ],
         "domain": {
          "x": [
           0,
           1
          ],
          "y": [
           0,
           1
          ]
         },
         "line": {
          "color": [
           903.9932576720645,
           788.8448175872469,
           779.810842264425,
           689.5558168113664,
           687.0875745178322,
           676.5065775293257,
           675.3502120510033,
           665.9640415783227,
           662.0136128276529,
           650.1244791945729
          ],
          "coloraxis": "coloraxis"
         },
         "name": "",
         "type": "parcoords"
        }
       ],
       "layout": {
        "coloraxis": {
         "colorbar": {
          "title": {
           "text": "sale_price_sqr_foot"
          }
         },
         "colorscale": [
          [
           0,
           "#0d0887"
          ],
          [
           0.1111111111111111,
           "#46039f"
          ],
          [
           0.2222222222222222,
           "#7201a8"
          ],
          [
           0.3333333333333333,
           "#9c179e"
          ],
          [
           0.4444444444444444,
           "#bd3786"
          ],
          [
           0.5555555555555556,
           "#d8576b"
          ],
          [
           0.6666666666666666,
           "#ed7953"
          ],
          [
           0.7777777777777778,
           "#fb9f3a"
          ],
          [
           0.8888888888888888,
           "#fdca26"
          ],
          [
           1,
           "#f0f921"
          ]
         ]
        },
        "legend": {
         "tracegroupgap": 0
        },
        "template": {
         "data": {
          "bar": [
           {
            "error_x": {
             "color": "#2a3f5f"
            },
            "error_y": {
             "color": "#2a3f5f"
            },
            "marker": {
             "line": {
              "color": "#E5ECF6",
              "width": 0.5
             },
             "pattern": {
              "fillmode": "overlay",
              "size": 10,
              "solidity": 0.2
             }
            },
            "type": "bar"
           }
          ],
          "barpolar": [
           {
            "marker": {
             "line": {
              "color": "#E5ECF6",
              "width": 0.5
             },
             "pattern": {
              "fillmode": "overlay",
              "size": 10,
              "solidity": 0.2
             }
            },
            "type": "barpolar"
           }
          ],
          "carpet": [
           {
            "aaxis": {
             "endlinecolor": "#2a3f5f",
             "gridcolor": "white",
             "linecolor": "white",
             "minorgridcolor": "white",
             "startlinecolor": "#2a3f5f"
            },
            "baxis": {
             "endlinecolor": "#2a3f5f",
             "gridcolor": "white",
             "linecolor": "white",
             "minorgridcolor": "white",
             "startlinecolor": "#2a3f5f"
            },
            "type": "carpet"
           }
          ],
          "choropleth": [
           {
            "colorbar": {
             "outlinewidth": 0,
             "ticks": ""
            },
            "type": "choropleth"
           }
          ],
          "contour": [
           {
            "colorbar": {
             "outlinewidth": 0,
             "ticks": ""
            },
            "colorscale": [
             [
              0,
              "#0d0887"
             ],
             [
              0.1111111111111111,
              "#46039f"
             ],
             [
              0.2222222222222222,
              "#7201a8"
             ],
             [
              0.3333333333333333,
              "#9c179e"
             ],
             [
              0.4444444444444444,
              "#bd3786"
             ],
             [
              0.5555555555555556,
              "#d8576b"
             ],
             [
              0.6666666666666666,
              "#ed7953"
             ],
             [
              0.7777777777777778,
              "#fb9f3a"
             ],
             [
              0.8888888888888888,
              "#fdca26"
             ],
             [
              1,
              "#f0f921"
             ]
            ],
            "type": "contour"
           }
          ],
          "contourcarpet": [
           {
            "colorbar": {
             "outlinewidth": 0,
             "ticks": ""
            },
            "type": "contourcarpet"
           }
          ],
          "heatmap": [
           {
            "colorbar": {
             "outlinewidth": 0,
             "ticks": ""
            },
            "colorscale": [
             [
              0,
              "#0d0887"
             ],
             [
              0.1111111111111111,
              "#46039f"
             ],
             [
              0.2222222222222222,
              "#7201a8"
             ],
             [
              0.3333333333333333,
              "#9c179e"
             ],
             [
              0.4444444444444444,
              "#bd3786"
             ],
             [
              0.5555555555555556,
              "#d8576b"
             ],
             [
              0.6666666666666666,
              "#ed7953"
             ],
             [
              0.7777777777777778,
              "#fb9f3a"
             ],
             [
              0.8888888888888888,
              "#fdca26"
             ],
             [
              1,
              "#f0f921"
             ]
            ],
            "type": "heatmap"
           }
          ],
          "heatmapgl": [
           {
            "colorbar": {
             "outlinewidth": 0,
             "ticks": ""
            },
            "colorscale": [
             [
              0,
              "#0d0887"
             ],
             [
              0.1111111111111111,
              "#46039f"
             ],
             [
              0.2222222222222222,
              "#7201a8"
             ],
             [
              0.3333333333333333,
              "#9c179e"
             ],
             [
              0.4444444444444444,
              "#bd3786"
             ],
             [
              0.5555555555555556,
              "#d8576b"
             ],
             [
              0.6666666666666666,
              "#ed7953"
             ],
             [
              0.7777777777777778,
              "#fb9f3a"
             ],
             [
              0.8888888888888888,
              "#fdca26"
             ],
             [
              1,
              "#f0f921"
             ]
            ],
            "type": "heatmapgl"
           }
          ],
          "histogram": [
           {
            "marker": {
             "pattern": {
              "fillmode": "overlay",
              "size": 10,
              "solidity": 0.2
             }
            },
            "type": "histogram"
           }
          ],
          "histogram2d": [
           {
            "colorbar": {
             "outlinewidth": 0,
             "ticks": ""
            },
            "colorscale": [
             [
              0,
              "#0d0887"
             ],
             [
              0.1111111111111111,
              "#46039f"
             ],
             [
              0.2222222222222222,
              "#7201a8"
             ],
             [
              0.3333333333333333,
              "#9c179e"
             ],
             [
              0.4444444444444444,
              "#bd3786"
             ],
             [
              0.5555555555555556,
              "#d8576b"
             ],
             [
              0.6666666666666666,
              "#ed7953"
             ],
             [
              0.7777777777777778,
              "#fb9f3a"
             ],
             [
              0.8888888888888888,
              "#fdca26"
             ],
             [
              1,
              "#f0f921"
             ]
            ],
            "type": "histogram2d"
           }
          ],
          "histogram2dcontour": [
           {
            "colorbar": {
             "outlinewidth": 0,
             "ticks": ""
            },
            "colorscale": [
             [
              0,
              "#0d0887"
             ],
             [
              0.1111111111111111,
              "#46039f"
             ],
             [
              0.2222222222222222,
              "#7201a8"
             ],
             [
              0.3333333333333333,
              "#9c179e"
             ],
             [
              0.4444444444444444,
              "#bd3786"
             ],
             [
              0.5555555555555556,
              "#d8576b"
             ],
             [
              0.6666666666666666,
              "#ed7953"
             ],
             [
              0.7777777777777778,
              "#fb9f3a"
             ],
             [
              0.8888888888888888,
              "#fdca26"
             ],
             [
              1,
              "#f0f921"
             ]
            ],
            "type": "histogram2dcontour"
           }
          ],
          "mesh3d": [
           {
            "colorbar": {
             "outlinewidth": 0,
             "ticks": ""
            },
            "type": "mesh3d"
           }
          ],
          "parcoords": [
           {
            "line": {
             "colorbar": {
              "outlinewidth": 0,
              "ticks": ""
             }
            },
            "type": "parcoords"
           }
          ],
          "pie": [
           {
            "automargin": true,
            "type": "pie"
           }
          ],
          "scatter": [
           {
            "fillpattern": {
             "fillmode": "overlay",
             "size": 10,
             "solidity": 0.2
            },
            "type": "scatter"
           }
          ],
          "scatter3d": [
           {
            "line": {
             "colorbar": {
              "outlinewidth": 0,
              "ticks": ""
             }
            },
            "marker": {
             "colorbar": {
              "outlinewidth": 0,
              "ticks": ""
             }
            },
            "type": "scatter3d"
           }
          ],
          "scattercarpet": [
           {
            "marker": {
             "colorbar": {
              "outlinewidth": 0,
              "ticks": ""
             }
            },
            "type": "scattercarpet"
           }
          ],
          "scattergeo": [
           {
            "marker": {
             "colorbar": {
              "outlinewidth": 0,
              "ticks": ""
             }
            },
            "type": "scattergeo"
           }
          ],
          "scattergl": [
           {
            "marker": {
             "colorbar": {
              "outlinewidth": 0,
              "ticks": ""
             }
            },
            "type": "scattergl"
           }
          ],
          "scattermapbox": [
           {
            "marker": {
             "colorbar": {
              "outlinewidth": 0,
              "ticks": ""
             }
            },
            "type": "scattermapbox"
           }
          ],
          "scatterpolar": [
           {
            "marker": {
             "colorbar": {
              "outlinewidth": 0,
              "ticks": ""
             }
            },
            "type": "scatterpolar"
           }
          ],
          "scatterpolargl": [
           {
            "marker": {
             "colorbar": {
              "outlinewidth": 0,
              "ticks": ""
             }
            },
            "type": "scatterpolargl"
           }
          ],
          "scatterternary": [
           {
            "marker": {
             "colorbar": {
              "outlinewidth": 0,
              "ticks": ""
             }
            },
            "type": "scatterternary"
           }
          ],
          "surface": [
           {
            "colorbar": {
             "outlinewidth": 0,
             "ticks": ""
            },
            "colorscale": [
             [
              0,
              "#0d0887"
             ],
             [
              0.1111111111111111,
              "#46039f"
             ],
             [
              0.2222222222222222,
              "#7201a8"
             ],
             [
              0.3333333333333333,
              "#9c179e"
             ],
             [
              0.4444444444444444,
              "#bd3786"
             ],
             [
              0.5555555555555556,
              "#d8576b"
             ],
             [
              0.6666666666666666,
              "#ed7953"
             ],
             [
              0.7777777777777778,
              "#fb9f3a"
             ],
             [
              0.8888888888888888,
              "#fdca26"
             ],
             [
              1,
              "#f0f921"
             ]
            ],
            "type": "surface"
           }
          ],
          "table": [
           {
            "cells": {
             "fill": {
              "color": "#EBF0F8"
             },
             "line": {
              "color": "white"
             }
            },
            "header": {
             "fill": {
              "color": "#C8D4E3"
             },
             "line": {
              "color": "white"
             }
            },
            "type": "table"
           }
          ]
         },
         "layout": {
          "annotationdefaults": {
           "arrowcolor": "#2a3f5f",
           "arrowhead": 0,
           "arrowwidth": 1
          },
          "autotypenumbers": "strict",
          "coloraxis": {
           "colorbar": {
            "outlinewidth": 0,
            "ticks": ""
           }
          },
          "colorscale": {
           "diverging": [
            [
             0,
             "#8e0152"
            ],
            [
             0.1,
             "#c51b7d"
            ],
            [
             0.2,
             "#de77ae"
            ],
            [
             0.3,
             "#f1b6da"
            ],
            [
             0.4,
             "#fde0ef"
            ],
            [
             0.5,
             "#f7f7f7"
            ],
            [
             0.6,
             "#e6f5d0"
            ],
            [
             0.7,
             "#b8e186"
            ],
            [
             0.8,
             "#7fbc41"
            ],
            [
             0.9,
             "#4d9221"
            ],
            [
             1,
             "#276419"
            ]
           ],
           "sequential": [
            [
             0,
             "#0d0887"
            ],
            [
             0.1111111111111111,
             "#46039f"
            ],
            [
             0.2222222222222222,
             "#7201a8"
            ],
            [
             0.3333333333333333,
             "#9c179e"
            ],
            [
             0.4444444444444444,
             "#bd3786"
            ],
            [
             0.5555555555555556,
             "#d8576b"
            ],
            [
             0.6666666666666666,
             "#ed7953"
            ],
            [
             0.7777777777777778,
             "#fb9f3a"
            ],
            [
             0.8888888888888888,
             "#fdca26"
            ],
            [
             1,
             "#f0f921"
            ]
           ],
           "sequentialminus": [
            [
             0,
             "#0d0887"
            ],
            [
             0.1111111111111111,
             "#46039f"
            ],
            [
             0.2222222222222222,
             "#7201a8"
            ],
            [
             0.3333333333333333,
             "#9c179e"
            ],
            [
             0.4444444444444444,
             "#bd3786"
            ],
            [
             0.5555555555555556,
             "#d8576b"
            ],
            [
             0.6666666666666666,
             "#ed7953"
            ],
            [
             0.7777777777777778,
             "#fb9f3a"
            ],
            [
             0.8888888888888888,
             "#fdca26"
            ],
            [
             1,
             "#f0f921"
            ]
           ]
          },
          "colorway": [
           "#636efa",
           "#EF553B",
           "#00cc96",
           "#ab63fa",
           "#FFA15A",
           "#19d3f3",
           "#FF6692",
           "#B6E880",
           "#FF97FF",
           "#FECB52"
          ],
          "font": {
           "color": "#2a3f5f"
          },
          "geo": {
           "bgcolor": "white",
           "lakecolor": "white",
           "landcolor": "#E5ECF6",
           "showlakes": true,
           "showland": true,
           "subunitcolor": "white"
          },
          "hoverlabel": {
           "align": "left"
          },
          "hovermode": "closest",
          "mapbox": {
           "style": "light"
          },
          "paper_bgcolor": "white",
          "plot_bgcolor": "#E5ECF6",
          "polar": {
           "angularaxis": {
            "gridcolor": "white",
            "linecolor": "white",
            "ticks": ""
           },
           "bgcolor": "#E5ECF6",
           "radialaxis": {
            "gridcolor": "white",
            "linecolor": "white",
            "ticks": ""
           }
          },
          "scene": {
           "xaxis": {
            "backgroundcolor": "#E5ECF6",
            "gridcolor": "white",
            "gridwidth": 2,
            "linecolor": "white",
            "showbackground": true,
            "ticks": "",
            "zerolinecolor": "white"
           },
           "yaxis": {
            "backgroundcolor": "#E5ECF6",
            "gridcolor": "white",
            "gridwidth": 2,
            "linecolor": "white",
            "showbackground": true,
            "ticks": "",
            "zerolinecolor": "white"
           },
           "zaxis": {
            "backgroundcolor": "#E5ECF6",
            "gridcolor": "white",
            "gridwidth": 2,
            "linecolor": "white",
            "showbackground": true,
            "ticks": "",
            "zerolinecolor": "white"
           }
          },
          "shapedefaults": {
           "line": {
            "color": "#2a3f5f"
           }
          },
          "ternary": {
           "aaxis": {
            "gridcolor": "white",
            "linecolor": "white",
            "ticks": ""
           },
           "baxis": {
            "gridcolor": "white",
            "linecolor": "white",
            "ticks": ""
           },
           "bgcolor": "#E5ECF6",
           "caxis": {
            "gridcolor": "white",
            "linecolor": "white",
            "ticks": ""
           }
          },
          "title": {
           "x": 0.05
          },
          "xaxis": {
           "automargin": true,
           "gridcolor": "white",
           "linecolor": "white",
           "ticks": "",
           "title": {
            "standoff": 15
           },
           "zerolinecolor": "white",
           "zerolinewidth": 2
          },
          "yaxis": {
           "automargin": true,
           "gridcolor": "white",
           "linecolor": "white",
           "ticks": "",
           "title": {
            "standoff": 15
           },
           "zerolinecolor": "white",
           "zerolinewidth": 2
          }
         }
        },
        "title": {
         "text": "Parallel Coordinates of Most Expensive Neighborhoods in San Francisco"
        }
       }
      }
     },
     "metadata": {},
     "output_type": "display_data"
    }
   ],
   "source": [
    "def parallel_coordinates():\n",
    "    \"\"\"Parallel Coordinates Plot.\"\"\"\n",
    " \n",
    "    \n",
    "    avg_value_per_neighborhood = sfo_neighborhoods_census.groupby([sfo_neighborhoods_census[\"neighborhood\"]]).mean()  \n",
    "    \n",
    "    top_ten_expensive_neighborhood = avg_value_per_neighborhood.nlargest(10, 'sale_price_sqr_foot').reset_index()\n",
    "    \n",
    "    top_ten_parallel_coordinates = px.parallel_coordinates(\n",
    "        top_ten_expensive_neighborhood,\n",
    "        color=\"sale_price_sqr_foot\",\n",
    "        title=\"Parallel Coordinates of Most Expensive Neighborhoods in San Francisco\"\n",
    "    )\n",
    "    \n",
    "    return top_ten_parallel_coordinates\n",
    "\n",
    "parallel_coordinates()"
   ]
  },
  {
   "cell_type": "code",
   "execution_count": 51,
   "metadata": {},
   "outputs": [
    {
     "data": {
      "application/vnd.plotly.v1+json": {
       "config": {
        "plotlyServerURL": "https://plot.ly"
       },
       "data": [
        {
         "dimensions": [
          {
           "label": "neighborhood",
           "values": [
            "Union Square District",
            "Merced Heights",
            "Miraloma Park",
            "Pacific Heights",
            "Westwood Park",
            "Telegraph Hill",
            "Presidio Heights",
            "Cow Hollow",
            "Potrero Hill",
            "South Beach"
           ]
          },
          {
           "label": "sale_price_sqr_foot",
           "values": [
            903.9932576720645,
            788.8448175872469,
            779.810842264425,
            689.5558168113664,
            687.0875745178322,
            676.5065775293257,
            675.3502120510033,
            665.9640415783227,
            662.0136128276529,
            650.1244791945729
           ]
          },
          {
           "label": "housing_units",
           "values": [
            377427.5,
            380348,
            375967.25,
            378401,
            382295,
            378401,
            378401,
            378401,
            378401,
            375805
           ]
          },
          {
           "label": "gross_rent",
           "values": [
            2555.1666666666665,
            3414,
            2155.25,
            2817.285714285714,
            3959,
            2817.285714285714,
            2817.285714285714,
            2817.285714285714,
            2817.285714285714,
            2099
           ]
          }
         ],
         "domain": {
          "x": [
           0,
           1
          ],
          "y": [
           0,
           1
          ]
         },
         "line": {
          "color": [
           903.9932576720645,
           788.8448175872469,
           779.810842264425,
           689.5558168113664,
           687.0875745178322,
           676.5065775293257,
           675.3502120510033,
           665.9640415783227,
           662.0136128276529,
           650.1244791945729
          ],
          "coloraxis": "coloraxis"
         },
         "name": "",
         "type": "parcats"
        }
       ],
       "layout": {
        "coloraxis": {
         "colorbar": {
          "title": {
           "text": "sale_price_sqr_foot"
          }
         },
         "colorscale": [
          [
           0,
           "#000004"
          ],
          [
           0.1111111111111111,
           "#1b0c41"
          ],
          [
           0.2222222222222222,
           "#4a0c6b"
          ],
          [
           0.3333333333333333,
           "#781c6d"
          ],
          [
           0.4444444444444444,
           "#a52c60"
          ],
          [
           0.5555555555555556,
           "#cf4446"
          ],
          [
           0.6666666666666666,
           "#ed6925"
          ],
          [
           0.7777777777777778,
           "#fb9b06"
          ],
          [
           0.8888888888888888,
           "#f7d13d"
          ],
          [
           1,
           "#fcffa4"
          ]
         ]
        },
        "legend": {
         "tracegroupgap": 0
        },
        "margin": {
         "t": 60
        },
        "template": {
         "data": {
          "bar": [
           {
            "error_x": {
             "color": "#2a3f5f"
            },
            "error_y": {
             "color": "#2a3f5f"
            },
            "marker": {
             "line": {
              "color": "#E5ECF6",
              "width": 0.5
             },
             "pattern": {
              "fillmode": "overlay",
              "size": 10,
              "solidity": 0.2
             }
            },
            "type": "bar"
           }
          ],
          "barpolar": [
           {
            "marker": {
             "line": {
              "color": "#E5ECF6",
              "width": 0.5
             },
             "pattern": {
              "fillmode": "overlay",
              "size": 10,
              "solidity": 0.2
             }
            },
            "type": "barpolar"
           }
          ],
          "carpet": [
           {
            "aaxis": {
             "endlinecolor": "#2a3f5f",
             "gridcolor": "white",
             "linecolor": "white",
             "minorgridcolor": "white",
             "startlinecolor": "#2a3f5f"
            },
            "baxis": {
             "endlinecolor": "#2a3f5f",
             "gridcolor": "white",
             "linecolor": "white",
             "minorgridcolor": "white",
             "startlinecolor": "#2a3f5f"
            },
            "type": "carpet"
           }
          ],
          "choropleth": [
           {
            "colorbar": {
             "outlinewidth": 0,
             "ticks": ""
            },
            "type": "choropleth"
           }
          ],
          "contour": [
           {
            "colorbar": {
             "outlinewidth": 0,
             "ticks": ""
            },
            "colorscale": [
             [
              0,
              "#0d0887"
             ],
             [
              0.1111111111111111,
              "#46039f"
             ],
             [
              0.2222222222222222,
              "#7201a8"
             ],
             [
              0.3333333333333333,
              "#9c179e"
             ],
             [
              0.4444444444444444,
              "#bd3786"
             ],
             [
              0.5555555555555556,
              "#d8576b"
             ],
             [
              0.6666666666666666,
              "#ed7953"
             ],
             [
              0.7777777777777778,
              "#fb9f3a"
             ],
             [
              0.8888888888888888,
              "#fdca26"
             ],
             [
              1,
              "#f0f921"
             ]
            ],
            "type": "contour"
           }
          ],
          "contourcarpet": [
           {
            "colorbar": {
             "outlinewidth": 0,
             "ticks": ""
            },
            "type": "contourcarpet"
           }
          ],
          "heatmap": [
           {
            "colorbar": {
             "outlinewidth": 0,
             "ticks": ""
            },
            "colorscale": [
             [
              0,
              "#0d0887"
             ],
             [
              0.1111111111111111,
              "#46039f"
             ],
             [
              0.2222222222222222,
              "#7201a8"
             ],
             [
              0.3333333333333333,
              "#9c179e"
             ],
             [
              0.4444444444444444,
              "#bd3786"
             ],
             [
              0.5555555555555556,
              "#d8576b"
             ],
             [
              0.6666666666666666,
              "#ed7953"
             ],
             [
              0.7777777777777778,
              "#fb9f3a"
             ],
             [
              0.8888888888888888,
              "#fdca26"
             ],
             [
              1,
              "#f0f921"
             ]
            ],
            "type": "heatmap"
           }
          ],
          "heatmapgl": [
           {
            "colorbar": {
             "outlinewidth": 0,
             "ticks": ""
            },
            "colorscale": [
             [
              0,
              "#0d0887"
             ],
             [
              0.1111111111111111,
              "#46039f"
             ],
             [
              0.2222222222222222,
              "#7201a8"
             ],
             [
              0.3333333333333333,
              "#9c179e"
             ],
             [
              0.4444444444444444,
              "#bd3786"
             ],
             [
              0.5555555555555556,
              "#d8576b"
             ],
             [
              0.6666666666666666,
              "#ed7953"
             ],
             [
              0.7777777777777778,
              "#fb9f3a"
             ],
             [
              0.8888888888888888,
              "#fdca26"
             ],
             [
              1,
              "#f0f921"
             ]
            ],
            "type": "heatmapgl"
           }
          ],
          "histogram": [
           {
            "marker": {
             "pattern": {
              "fillmode": "overlay",
              "size": 10,
              "solidity": 0.2
             }
            },
            "type": "histogram"
           }
          ],
          "histogram2d": [
           {
            "colorbar": {
             "outlinewidth": 0,
             "ticks": ""
            },
            "colorscale": [
             [
              0,
              "#0d0887"
             ],
             [
              0.1111111111111111,
              "#46039f"
             ],
             [
              0.2222222222222222,
              "#7201a8"
             ],
             [
              0.3333333333333333,
              "#9c179e"
             ],
             [
              0.4444444444444444,
              "#bd3786"
             ],
             [
              0.5555555555555556,
              "#d8576b"
             ],
             [
              0.6666666666666666,
              "#ed7953"
             ],
             [
              0.7777777777777778,
              "#fb9f3a"
             ],
             [
              0.8888888888888888,
              "#fdca26"
             ],
             [
              1,
              "#f0f921"
             ]
            ],
            "type": "histogram2d"
           }
          ],
          "histogram2dcontour": [
           {
            "colorbar": {
             "outlinewidth": 0,
             "ticks": ""
            },
            "colorscale": [
             [
              0,
              "#0d0887"
             ],
             [
              0.1111111111111111,
              "#46039f"
             ],
             [
              0.2222222222222222,
              "#7201a8"
             ],
             [
              0.3333333333333333,
              "#9c179e"
             ],
             [
              0.4444444444444444,
              "#bd3786"
             ],
             [
              0.5555555555555556,
              "#d8576b"
             ],
             [
              0.6666666666666666,
              "#ed7953"
             ],
             [
              0.7777777777777778,
              "#fb9f3a"
             ],
             [
              0.8888888888888888,
              "#fdca26"
             ],
             [
              1,
              "#f0f921"
             ]
            ],
            "type": "histogram2dcontour"
           }
          ],
          "mesh3d": [
           {
            "colorbar": {
             "outlinewidth": 0,
             "ticks": ""
            },
            "type": "mesh3d"
           }
          ],
          "parcoords": [
           {
            "line": {
             "colorbar": {
              "outlinewidth": 0,
              "ticks": ""
             }
            },
            "type": "parcoords"
           }
          ],
          "pie": [
           {
            "automargin": true,
            "type": "pie"
           }
          ],
          "scatter": [
           {
            "fillpattern": {
             "fillmode": "overlay",
             "size": 10,
             "solidity": 0.2
            },
            "type": "scatter"
           }
          ],
          "scatter3d": [
           {
            "line": {
             "colorbar": {
              "outlinewidth": 0,
              "ticks": ""
             }
            },
            "marker": {
             "colorbar": {
              "outlinewidth": 0,
              "ticks": ""
             }
            },
            "type": "scatter3d"
           }
          ],
          "scattercarpet": [
           {
            "marker": {
             "colorbar": {
              "outlinewidth": 0,
              "ticks": ""
             }
            },
            "type": "scattercarpet"
           }
          ],
          "scattergeo": [
           {
            "marker": {
             "colorbar": {
              "outlinewidth": 0,
              "ticks": ""
             }
            },
            "type": "scattergeo"
           }
          ],
          "scattergl": [
           {
            "marker": {
             "colorbar": {
              "outlinewidth": 0,
              "ticks": ""
             }
            },
            "type": "scattergl"
           }
          ],
          "scattermapbox": [
           {
            "marker": {
             "colorbar": {
              "outlinewidth": 0,
              "ticks": ""
             }
            },
            "type": "scattermapbox"
           }
          ],
          "scatterpolar": [
           {
            "marker": {
             "colorbar": {
              "outlinewidth": 0,
              "ticks": ""
             }
            },
            "type": "scatterpolar"
           }
          ],
          "scatterpolargl": [
           {
            "marker": {
             "colorbar": {
              "outlinewidth": 0,
              "ticks": ""
             }
            },
            "type": "scatterpolargl"
           }
          ],
          "scatterternary": [
           {
            "marker": {
             "colorbar": {
              "outlinewidth": 0,
              "ticks": ""
             }
            },
            "type": "scatterternary"
           }
          ],
          "surface": [
           {
            "colorbar": {
             "outlinewidth": 0,
             "ticks": ""
            },
            "colorscale": [
             [
              0,
              "#0d0887"
             ],
             [
              0.1111111111111111,
              "#46039f"
             ],
             [
              0.2222222222222222,
              "#7201a8"
             ],
             [
              0.3333333333333333,
              "#9c179e"
             ],
             [
              0.4444444444444444,
              "#bd3786"
             ],
             [
              0.5555555555555556,
              "#d8576b"
             ],
             [
              0.6666666666666666,
              "#ed7953"
             ],
             [
              0.7777777777777778,
              "#fb9f3a"
             ],
             [
              0.8888888888888888,
              "#fdca26"
             ],
             [
              1,
              "#f0f921"
             ]
            ],
            "type": "surface"
           }
          ],
          "table": [
           {
            "cells": {
             "fill": {
              "color": "#EBF0F8"
             },
             "line": {
              "color": "white"
             }
            },
            "header": {
             "fill": {
              "color": "#C8D4E3"
             },
             "line": {
              "color": "white"
             }
            },
            "type": "table"
           }
          ]
         },
         "layout": {
          "annotationdefaults": {
           "arrowcolor": "#2a3f5f",
           "arrowhead": 0,
           "arrowwidth": 1
          },
          "autotypenumbers": "strict",
          "coloraxis": {
           "colorbar": {
            "outlinewidth": 0,
            "ticks": ""
           }
          },
          "colorscale": {
           "diverging": [
            [
             0,
             "#8e0152"
            ],
            [
             0.1,
             "#c51b7d"
            ],
            [
             0.2,
             "#de77ae"
            ],
            [
             0.3,
             "#f1b6da"
            ],
            [
             0.4,
             "#fde0ef"
            ],
            [
             0.5,
             "#f7f7f7"
            ],
            [
             0.6,
             "#e6f5d0"
            ],
            [
             0.7,
             "#b8e186"
            ],
            [
             0.8,
             "#7fbc41"
            ],
            [
             0.9,
             "#4d9221"
            ],
            [
             1,
             "#276419"
            ]
           ],
           "sequential": [
            [
             0,
             "#0d0887"
            ],
            [
             0.1111111111111111,
             "#46039f"
            ],
            [
             0.2222222222222222,
             "#7201a8"
            ],
            [
             0.3333333333333333,
             "#9c179e"
            ],
            [
             0.4444444444444444,
             "#bd3786"
            ],
            [
             0.5555555555555556,
             "#d8576b"
            ],
            [
             0.6666666666666666,
             "#ed7953"
            ],
            [
             0.7777777777777778,
             "#fb9f3a"
            ],
            [
             0.8888888888888888,
             "#fdca26"
            ],
            [
             1,
             "#f0f921"
            ]
           ],
           "sequentialminus": [
            [
             0,
             "#0d0887"
            ],
            [
             0.1111111111111111,
             "#46039f"
            ],
            [
             0.2222222222222222,
             "#7201a8"
            ],
            [
             0.3333333333333333,
             "#9c179e"
            ],
            [
             0.4444444444444444,
             "#bd3786"
            ],
            [
             0.5555555555555556,
             "#d8576b"
            ],
            [
             0.6666666666666666,
             "#ed7953"
            ],
            [
             0.7777777777777778,
             "#fb9f3a"
            ],
            [
             0.8888888888888888,
             "#fdca26"
            ],
            [
             1,
             "#f0f921"
            ]
           ]
          },
          "colorway": [
           "#636efa",
           "#EF553B",
           "#00cc96",
           "#ab63fa",
           "#FFA15A",
           "#19d3f3",
           "#FF6692",
           "#B6E880",
           "#FF97FF",
           "#FECB52"
          ],
          "font": {
           "color": "#2a3f5f"
          },
          "geo": {
           "bgcolor": "white",
           "lakecolor": "white",
           "landcolor": "#E5ECF6",
           "showlakes": true,
           "showland": true,
           "subunitcolor": "white"
          },
          "hoverlabel": {
           "align": "left"
          },
          "hovermode": "closest",
          "mapbox": {
           "style": "light"
          },
          "paper_bgcolor": "white",
          "plot_bgcolor": "#E5ECF6",
          "polar": {
           "angularaxis": {
            "gridcolor": "white",
            "linecolor": "white",
            "ticks": ""
           },
           "bgcolor": "#E5ECF6",
           "radialaxis": {
            "gridcolor": "white",
            "linecolor": "white",
            "ticks": ""
           }
          },
          "scene": {
           "xaxis": {
            "backgroundcolor": "#E5ECF6",
            "gridcolor": "white",
            "gridwidth": 2,
            "linecolor": "white",
            "showbackground": true,
            "ticks": "",
            "zerolinecolor": "white"
           },
           "yaxis": {
            "backgroundcolor": "#E5ECF6",
            "gridcolor": "white",
            "gridwidth": 2,
            "linecolor": "white",
            "showbackground": true,
            "ticks": "",
            "zerolinecolor": "white"
           },
           "zaxis": {
            "backgroundcolor": "#E5ECF6",
            "gridcolor": "white",
            "gridwidth": 2,
            "linecolor": "white",
            "showbackground": true,
            "ticks": "",
            "zerolinecolor": "white"
           }
          },
          "shapedefaults": {
           "line": {
            "color": "#2a3f5f"
           }
          },
          "ternary": {
           "aaxis": {
            "gridcolor": "white",
            "linecolor": "white",
            "ticks": ""
           },
           "baxis": {
            "gridcolor": "white",
            "linecolor": "white",
            "ticks": ""
           },
           "bgcolor": "#E5ECF6",
           "caxis": {
            "gridcolor": "white",
            "linecolor": "white",
            "ticks": ""
           }
          },
          "title": {
           "x": 0.05
          },
          "xaxis": {
           "automargin": true,
           "gridcolor": "white",
           "linecolor": "white",
           "ticks": "",
           "title": {
            "standoff": 15
           },
           "zerolinecolor": "white",
           "zerolinewidth": 2
          },
          "yaxis": {
           "automargin": true,
           "gridcolor": "white",
           "linecolor": "white",
           "ticks": "",
           "title": {
            "standoff": 15
           },
           "zerolinecolor": "white",
           "zerolinewidth": 2
          }
         }
        }
       }
      }
     },
     "metadata": {},
     "output_type": "display_data"
    }
   ],
   "source": [
    "# parallel_coordinates()\n",
    "\n",
    "def parallel_categories():\n",
    "    \"\"\"Parallel Categories Plot.\"\"\"\n",
    "    \n",
    "    avg_value_per_neighborhood = sfo_neighborhoods_census.groupby([sfo_neighborhoods_census[\"neighborhood\"]]).mean()  \n",
    "    top_ten_expensive_neighborhood = avg_value_per_neighborhood.nlargest(10, 'sale_price_sqr_foot').reset_index()\n",
    "    \n",
    "    top_ten_parallel_categories = px.parallel_categories(\n",
    "    top_ten_expensive_neighborhood,\n",
    "    dimensions=[\"neighborhood\", \"sale_price_sqr_foot\", \"housing_units\", \"gross_rent\"],\n",
    "    color=\"sale_price_sqr_foot\",\n",
    "    color_continuous_scale=px.colors.sequential.Inferno,\n",
    ")\n",
    "    \n",
    "    return top_ten_parallel_categories\n",
    "\n",
    "parallel_categories()"
   ]
  },
  {
   "cell_type": "code",
   "execution_count": 52,
   "metadata": {},
   "outputs": [
    {
     "data": {
      "application/vnd.plotly.v1+json": {
       "config": {
        "plotlyServerURL": "https://plot.ly"
       },
       "data": [
        {
         "branchvalues": "total",
         "customdata": [
          [
           1239,
           1239
          ],
          [
           1530,
           1530
          ],
          [
           2324,
           2324
          ],
          [
           2971,
           2971
          ],
          [
           3528,
           3528
          ],
          [
           3739,
           3739
          ],
          [
           4390,
           4390
          ],
          [
           1239,
           1239
          ],
          [
           2324,
           2324
          ],
          [
           2971,
           2971
          ],
          [
           3528,
           3528
          ],
          [
           3739,
           3739
          ],
          [
           4390,
           4390
          ],
          [
           1239,
           1239
          ],
          [
           1529.9999999999998,
           1529.9999999999998
          ],
          [
           2324,
           2324
          ],
          [
           2971,
           2971
          ],
          [
           3528,
           3528
          ],
          [
           3739,
           3739
          ],
          [
           1530,
           1530
          ],
          [
           2324,
           2324
          ],
          [
           2971,
           2971
          ],
          [
           3528,
           3528
          ],
          [
           3739,
           3739
          ],
          [
           4390,
           4390
          ],
          [
           1239,
           1239
          ],
          [
           1530,
           1530
          ],
          [
           2324,
           2324
          ],
          [
           2971,
           2971
          ],
          [
           3739,
           3739
          ],
          [
           4390,
           4390
          ],
          [
           1239,
           1239
          ],
          [
           1530,
           1530
          ],
          [
           2324,
           2324
          ],
          [
           2971,
           2971
          ],
          [
           3528,
           3528
          ],
          [
           3739,
           3739
          ],
          [
           4390,
           4390
          ],
          [
           1239,
           1239
          ],
          [
           1530.0000000000002,
           1530.0000000000002
          ],
          [
           2324,
           2324
          ],
          [
           2971,
           2971
          ],
          [
           3528,
           3528
          ],
          [
           3739,
           3739
          ],
          [
           4390,
           4390
          ],
          [
           1530,
           1530
          ],
          [
           2971,
           2971
          ],
          [
           1239,
           1239
          ],
          [
           1530,
           1530
          ],
          [
           2324,
           2324
          ],
          [
           3528,
           3528
          ],
          [
           3739,
           3739
          ],
          [
           1239,
           1239
          ],
          [
           1529.9999999999998,
           1529.9999999999998
          ],
          [
           2324,
           2324
          ],
          [
           2971,
           2971
          ],
          [
           3527.9999999999995,
           3527.9999999999995
          ],
          [
           3739.0000000000005,
           3739.0000000000005
          ],
          [
           4390,
           4390
          ],
          [
           1239,
           1239
          ],
          [
           1530,
           1530
          ],
          [
           2324,
           2324
          ],
          [
           2971,
           2971
          ],
          [
           3739,
           3739
          ],
          [
           4390,
           4390
          ],
          [
           1239,
           1239
          ],
          [
           1530.0000000000002,
           1530.0000000000002
          ],
          [
           2324,
           2324
          ],
          [
           2971,
           2971
          ],
          [
           1239,
           1239
          ],
          [
           1530,
           1530
          ],
          [
           2324,
           2324
          ],
          [
           2971,
           2971
          ],
          [
           3528.0000000000005,
           3528.0000000000005
          ],
          [
           3739,
           3739
          ],
          [
           4390,
           4390
          ],
          [
           1530,
           1530
          ],
          [
           2323.9999999999995,
           2323.9999999999995
          ],
          [
           3528.0000000000005,
           3528.0000000000005
          ],
          [
           3738.9999999999995,
           3738.9999999999995
          ],
          [
           1239,
           1239
          ],
          [
           1530.0000000000002,
           1530.0000000000002
          ],
          [
           2324,
           2324
          ],
          [
           2971,
           2971
          ],
          [
           3528.0000000000005,
           3528.0000000000005
          ],
          [
           3739,
           3739
          ],
          [
           4390,
           4390
          ],
          [
           1239,
           1239
          ],
          [
           2324,
           2324
          ],
          [
           2971,
           2971
          ],
          [
           3528,
           3528
          ],
          [
           3739,
           3739
          ],
          [
           4390,
           4390
          ],
          [
           1239,
           1239
          ],
          [
           1530,
           1530
          ],
          [
           2324,
           2324
          ],
          [
           2971,
           2971
          ],
          [
           3527.9999999999995,
           3527.9999999999995
          ],
          [
           3739,
           3739
          ],
          [
           null,
           null
          ],
          [
           1239,
           1239
          ],
          [
           1530,
           1530
          ],
          [
           2324,
           2324
          ],
          [
           3527.9999999999995,
           3527.9999999999995
          ],
          [
           3739,
           3739
          ],
          [
           1239,
           1239
          ],
          [
           2324,
           2324
          ],
          [
           1239,
           1239
          ],
          [
           1530,
           1530
          ],
          [
           2971,
           2971
          ],
          [
           3528,
           3528
          ],
          [
           3739,
           3739
          ],
          [
           4390,
           4390
          ],
          [
           1239,
           1239
          ],
          [
           1529.9999999999998,
           1529.9999999999998
          ],
          [
           2971,
           2971
          ],
          [
           3528,
           3528
          ],
          [
           3739,
           3739
          ],
          [
           1239,
           1239
          ],
          [
           1530,
           1530
          ],
          [
           2324,
           2324
          ],
          [
           2971,
           2971
          ],
          [
           3528,
           3528
          ],
          [
           3738.9999999999995,
           3738.9999999999995
          ],
          [
           4390,
           4390
          ],
          [
           1239,
           1239
          ],
          [
           1530,
           1530
          ],
          [
           2324,
           2324
          ],
          [
           2971,
           2971
          ],
          [
           3528,
           3528
          ],
          [
           3739,
           3739
          ],
          [
           4390,
           4390
          ],
          [
           1239,
           1239
          ],
          [
           null,
           null
          ],
          [
           1239,
           1239
          ],
          [
           1529.9999999999998,
           1529.9999999999998
          ],
          [
           3528,
           3528
          ],
          [
           3738.9999999999995,
           3738.9999999999995
          ],
          [
           1530.0000000000002,
           1530.0000000000002
          ],
          [
           4390,
           4390
          ],
          [
           1239,
           1239
          ],
          [
           1530,
           1530
          ],
          [
           2324,
           2324
          ],
          [
           2971,
           2971
          ],
          [
           3528,
           3528
          ],
          [
           3739,
           3739
          ],
          [
           4390,
           4390
          ],
          [
           1239,
           1239
          ],
          [
           3528.0000000000005,
           3528.0000000000005
          ],
          [
           3739.0000000000005,
           3739.0000000000005
          ],
          [
           4390,
           4390
          ],
          [
           1239,
           1239
          ],
          [
           1530,
           1530
          ],
          [
           2324,
           2324
          ],
          [
           2971,
           2971
          ],
          [
           3528,
           3528
          ],
          [
           3739,
           3739
          ],
          [
           4390,
           4390
          ],
          [
           1239,
           1239
          ],
          [
           1530,
           1530
          ],
          [
           2324,
           2324
          ],
          [
           2971,
           2971
          ],
          [
           3528,
           3528
          ],
          [
           3739.0000000000005,
           3739.0000000000005
          ],
          [
           4390,
           4390
          ],
          [
           1239,
           1239
          ],
          [
           1530,
           1530
          ],
          [
           2324,
           2324
          ],
          [
           2971,
           2971
          ],
          [
           3528,
           3528
          ],
          [
           3739,
           3739
          ],
          [
           4390,
           4390
          ],
          [
           1239,
           1239
          ],
          [
           1530,
           1530
          ],
          [
           2324,
           2324
          ],
          [
           2971,
           2971
          ],
          [
           3528.0000000000005,
           3528.0000000000005
          ],
          [
           3739,
           3739
          ],
          [
           1239,
           1239
          ],
          [
           1530,
           1530
          ],
          [
           2324,
           2324
          ],
          [
           2971,
           2971
          ],
          [
           3528,
           3528
          ],
          [
           3739,
           3739
          ],
          [
           1239,
           1239
          ],
          [
           1530,
           1530
          ],
          [
           2324,
           2324
          ],
          [
           2971,
           2971
          ],
          [
           3528,
           3528
          ],
          [
           3739,
           3739
          ],
          [
           4390,
           4390
          ],
          [
           1239,
           1239
          ],
          [
           1530,
           1530
          ],
          [
           2324,
           2324
          ],
          [
           2971,
           2971
          ],
          [
           3528.0000000000005,
           3528.0000000000005
          ],
          [
           3739,
           3739
          ],
          [
           4390,
           4390
          ],
          [
           2324,
           2324
          ],
          [
           3528,
           3528
          ],
          [
           4390,
           4390
          ],
          [
           2324,
           2324
          ],
          [
           2971,
           2971
          ],
          [
           1239,
           1239
          ],
          [
           1530,
           1530
          ],
          [
           2324,
           2324
          ],
          [
           3528.0000000000005,
           3528.0000000000005
          ],
          [
           1239,
           1239
          ],
          [
           1530,
           1530
          ],
          [
           2324,
           2324
          ],
          [
           null,
           null
          ],
          [
           3528.0000000000005,
           3528.0000000000005
          ],
          [
           4390,
           4390
          ],
          [
           1239,
           1239
          ],
          [
           1530,
           1530
          ],
          [
           2324,
           2324
          ],
          [
           2971,
           2971
          ],
          [
           3528,
           3528
          ],
          [
           3739.0000000000005,
           3739.0000000000005
          ],
          [
           1239,
           1239
          ],
          [
           2971,
           2971
          ],
          [
           3528,
           3528
          ],
          [
           3739,
           3739
          ],
          [
           4390,
           4390
          ],
          [
           1239,
           1239
          ],
          [
           1530,
           1530
          ],
          [
           2324,
           2324
          ],
          [
           2971,
           2971
          ],
          [
           3528,
           3528
          ],
          [
           3739,
           3739
          ],
          [
           4390,
           4390
          ],
          [
           1239,
           1239
          ],
          [
           1530,
           1530
          ],
          [
           2324,
           2324
          ],
          [
           2971,
           2971
          ],
          [
           3527.9999999999995,
           3527.9999999999995
          ],
          [
           3739,
           3739
          ],
          [
           4390,
           4390
          ],
          [
           1530,
           1530
          ],
          [
           2324,
           2324
          ],
          [
           2970.9999999999995,
           2970.9999999999995
          ],
          [
           3739,
           3739
          ],
          [
           4390,
           4390
          ],
          [
           1530,
           1530
          ],
          [
           2324,
           2324
          ],
          [
           2971,
           2971
          ],
          [
           3528,
           3528
          ],
          [
           3739,
           3739
          ],
          [
           1239,
           1239
          ],
          [
           2324,
           2324
          ],
          [
           3739,
           3739
          ],
          [
           1530,
           1530
          ],
          [
           2324,
           2324
          ],
          [
           3738.9999999999995,
           3738.9999999999995
          ],
          [
           4390,
           4390
          ],
          [
           1239,
           1239
          ],
          [
           1530,
           1530
          ],
          [
           2324,
           2324
          ],
          [
           2971,
           2971
          ],
          [
           3528.0000000000005,
           3528.0000000000005
          ],
          [
           3739,
           3739
          ],
          [
           4390,
           4390
          ],
          [
           1239,
           1239
          ],
          [
           1530,
           1530
          ],
          [
           2324,
           2324
          ],
          [
           2971,
           2971
          ],
          [
           3528,
           3528
          ],
          [
           3739,
           3739
          ],
          [
           4390,
           4390
          ],
          [
           1239,
           1239
          ],
          [
           1530,
           1530
          ],
          [
           2324,
           2324
          ],
          [
           2971,
           2971
          ],
          [
           3528,
           3528
          ],
          [
           3739,
           3739
          ],
          [
           4390,
           4390
          ],
          [
           1239,
           1239
          ],
          [
           1530,
           1530
          ],
          [
           2324,
           2324
          ],
          [
           2971,
           2971
          ],
          [
           3528,
           3528
          ],
          [
           3739,
           3739
          ],
          [
           4390,
           4390
          ],
          [
           1239,
           1239
          ],
          [
           1530,
           1530
          ],
          [
           2324,
           2324
          ],
          [
           2971,
           2971
          ],
          [
           3528,
           3528
          ],
          [
           3739,
           3739
          ],
          [
           4390,
           4390
          ],
          [
           1239,
           1239
          ],
          [
           1530,
           1530
          ],
          [
           2324,
           2324
          ],
          [
           2971,
           2971
          ],
          [
           3528,
           3528
          ],
          [
           null,
           null
          ],
          [
           1239,
           1239
          ],
          [
           1530,
           1530
          ],
          [
           2324,
           2324
          ],
          [
           2971,
           2971
          ],
          [
           3528,
           3528
          ],
          [
           3739,
           3739
          ],
          [
           4390,
           4390
          ],
          [
           1239,
           1239
          ],
          [
           1530,
           1530
          ],
          [
           2324,
           2324
          ],
          [
           2971,
           2971
          ],
          [
           3528,
           3528
          ],
          [
           1239,
           1239
          ],
          [
           1530,
           1530
          ],
          [
           2324,
           2324
          ],
          [
           2971,
           2971
          ],
          [
           3528,
           3528
          ],
          [
           3739,
           3739
          ],
          [
           4390,
           4390
          ],
          [
           1239,
           1239
          ],
          [
           1530,
           1530
          ],
          [
           2324,
           2324
          ],
          [
           2971,
           2971
          ],
          [
           3528,
           3528
          ],
          [
           null,
           null
          ],
          [
           4390,
           4390
          ],
          [
           1239,
           1239
          ],
          [
           1529.9999999999998,
           1529.9999999999998
          ],
          [
           2324,
           2324
          ],
          [
           2971,
           2971
          ],
          [
           3528,
           3528
          ],
          [
           3738.9999999999995,
           3738.9999999999995
          ],
          [
           4390,
           4390
          ],
          [
           3528,
           3528
          ],
          [
           1239,
           1239
          ],
          [
           1529.9999999999998,
           1529.9999999999998
          ],
          [
           3528,
           3528
          ],
          [
           1239,
           1239
          ],
          [
           1530,
           1530
          ],
          [
           2324,
           2324
          ],
          [
           2971,
           2971
          ],
          [
           3528,
           3528
          ],
          [
           3739,
           3739
          ],
          [
           4390,
           4390
          ],
          [
           1239,
           1239
          ],
          [
           1530,
           1530
          ],
          [
           2971,
           2971
          ],
          [
           3528,
           3528
          ],
          [
           3739,
           3739
          ],
          [
           4390,
           4390
          ],
          [
           1239,
           1239
          ],
          [
           1530,
           1530
          ],
          [
           2324,
           2324
          ],
          [
           2971,
           2971
          ],
          [
           3527.9999999999995,
           3527.9999999999995
          ],
          [
           3739,
           3739
          ],
          [
           4390,
           4390
          ],
          [
           1239,
           1239
          ],
          [
           1530,
           1530
          ],
          [
           2324,
           2324
          ],
          [
           2971,
           2971
          ],
          [
           3528,
           3528
          ],
          [
           3739,
           3739
          ],
          [
           4390,
           4390
          ],
          [
           1239,
           1239
          ],
          [
           1530,
           1530
          ],
          [
           2324,
           2324
          ],
          [
           2971,
           2971
          ],
          [
           3528,
           3528
          ],
          [
           3739.0000000000005,
           3739.0000000000005
          ],
          [
           1239,
           1239
          ],
          [
           1530,
           1530
          ],
          [
           2324,
           2324
          ],
          [
           2971,
           2971
          ],
          [
           3528,
           3528
          ],
          [
           3739,
           3739
          ],
          [
           4390,
           4390
          ],
          [
           2971,
           2971
          ],
          [
           3528,
           3528
          ],
          [
           3739.0000000000005,
           3739.0000000000005
          ],
          [
           4390,
           4390
          ],
          [
           1239,
           1239
          ],
          [
           2324,
           2324
          ],
          [
           2971,
           2971
          ],
          [
           3528,
           3528
          ],
          [
           1239,
           1239
          ],
          [
           1530,
           1530
          ],
          [
           2324,
           2324
          ],
          [
           2971,
           2971
          ],
          [
           3528,
           3528
          ],
          [
           3739,
           3739
          ],
          [
           1530,
           1530
          ],
          [
           2971,
           2971
          ],
          [
           3528.0000000000005,
           3528.0000000000005
          ],
          [
           4390,
           4390
          ],
          [
           1239,
           1239
          ],
          [
           1530,
           1530
          ],
          [
           2324,
           2324
          ],
          [
           2971,
           2971
          ],
          [
           3528,
           3528
          ],
          [
           3739,
           3739
          ],
          [
           1239,
           1239
          ],
          [
           1529.9999999999998,
           1529.9999999999998
          ],
          [
           2324,
           2324
          ],
          [
           null,
           null
          ],
          [
           3528,
           3528
          ],
          [
           null,
           null
          ],
          [
           null,
           null
          ]
         ],
         "domain": {
          "x": [
           0,
           1
          ],
          "y": [
           0,
           1
          ]
         },
         "hovertemplate": "labels=%{label}<br>sale_price_sqr_foot=%{value}<br>parent=%{parent}<br>id=%{id}<br>gross_rent=%{color}<extra></extra>",
         "ids": [
          "2010/Alamo Square",
          "2011/Alamo Square",
          "2012/Alamo Square",
          "2013/Alamo Square",
          "2014/Alamo Square",
          "2015/Alamo Square",
          "2016/Alamo Square",
          "2010/Anza Vista",
          "2012/Anza Vista",
          "2013/Anza Vista",
          "2014/Anza Vista",
          "2015/Anza Vista",
          "2016/Anza Vista",
          "2010/Bayview",
          "2011/Bayview",
          "2012/Bayview",
          "2013/Bayview",
          "2014/Bayview",
          "2015/Bayview Heights",
          "2011/Bernal Heights ",
          "2012/Bernal Heights ",
          "2013/Bernal Heights ",
          "2014/Bernal Heights ",
          "2015/Bernal Heights ",
          "2016/Bernal Heights ",
          "2010/Buena Vista Park",
          "2011/Buena Vista Park",
          "2012/Buena Vista Park",
          "2013/Buena Vista Park",
          "2015/Buena Vista Park",
          "2016/Buena Vista Park",
          "2010/Central Richmond",
          "2011/Central Richmond",
          "2012/Central Richmond",
          "2013/Central Richmond",
          "2014/Central Richmond",
          "2015/Central Richmond",
          "2016/Central Richmond",
          "2010/Central Sunset",
          "2011/Central Sunset",
          "2012/Central Sunset",
          "2013/Central Sunset",
          "2014/Central Sunset",
          "2015/Central Sunset",
          "2016/Central Sunset",
          "2011/Clarendon Heights",
          "2013/Clarendon Heights",
          "2010/Corona Heights",
          "2011/Corona Heights",
          "2012/Corona Heights",
          "2014/Corona Heights",
          "2015/Corona Heights",
          "2010/Cow Hollow",
          "2011/Cow Hollow",
          "2012/Cow Hollow",
          "2013/Cow Hollow",
          "2014/Cow Hollow",
          "2015/Cow Hollow",
          "2016/Cow Hollow",
          "2010/Croker Amazon",
          "2011/Croker Amazon",
          "2012/Croker Amazon",
          "2013/Croker Amazon",
          "2015/Croker Amazon",
          "2016/Croker Amazon",
          "2010/Diamond Heights",
          "2011/Diamond Heights",
          "2012/Diamond Heights",
          "2013/Diamond Heights",
          "2010/Downtown ",
          "2011/Downtown ",
          "2012/Downtown ",
          "2013/Downtown ",
          "2014/Downtown ",
          "2015/Downtown ",
          "2016/Downtown ",
          "2011/Duboce Triangle",
          "2012/Duboce Triangle",
          "2014/Duboce Triangle",
          "2015/Duboce Triangle",
          "2010/Eureka Valley/Dolores Heights",
          "2011/Eureka Valley/Dolores Heights",
          "2012/Eureka Valley/Dolores Heights",
          "2013/Eureka Valley/Dolores Heights",
          "2014/Eureka Valley/Dolores Heights",
          "2015/Eureka Valley/Dolores Heights",
          "2016/Eureka Valley/Dolores Heights",
          "2010/Excelsior",
          "2012/Excelsior",
          "2013/Excelsior",
          "2014/Excelsior",
          "2015/Excelsior",
          "2016/Excelsior",
          "2010/Financial District North",
          "2011/Financial District North",
          "2012/Financial District North",
          "2013/Financial District North",
          "2014/Financial District North",
          "2015/Financial District North",
          "2016/Financial District North",
          "2010/Financial District South",
          "2011/Financial District South",
          "2012/Financial District South",
          "2014/Financial District South",
          "2015/Financial District South",
          "2010/Forest Knolls",
          "2012/Forest Knolls",
          "2010/Glen Park",
          "2011/Glen Park",
          "2013/Glen Park",
          "2014/Glen Park",
          "2015/Glen Park",
          "2016/Glen Park",
          "2010/Golden Gate Heights",
          "2011/Golden Gate Heights",
          "2013/Golden Gate Heights",
          "2014/Golden Gate Heights",
          "2015/Golden Gate Heights",
          "2010/Haight Ashbury",
          "2011/Haight Ashbury",
          "2012/Haight Ashbury",
          "2013/Haight Ashbury",
          "2014/Haight Ashbury",
          "2015/Haight Ashbury",
          "2016/Haight Ashbury",
          "2010/Hayes Valley",
          "2011/Hayes Valley",
          "2012/Hayes Valley",
          "2013/Hayes Valley",
          "2014/Hayes Valley",
          "2015/Hayes Valley",
          "2016/Hayes Valley",
          "2010/Hunters Point",
          "2015/Hunters Point",
          "2010/Ingleside ",
          "2011/Ingleside ",
          "2014/Ingleside ",
          "2015/Ingleside ",
          "2011/Ingleside Heights",
          "2016/Ingleside Heights",
          "2010/Inner Mission",
          "2011/Inner Mission",
          "2012/Inner Mission",
          "2013/Inner Mission",
          "2014/Inner Mission",
          "2015/Inner Mission",
          "2016/Inner Mission",
          "2010/Inner Parkside",
          "2014/Inner Parkside",
          "2015/Inner Parkside",
          "2016/Inner Parkside",
          "2010/Inner Richmond",
          "2011/Inner Richmond",
          "2012/Inner Richmond",
          "2013/Inner Richmond",
          "2014/Inner Richmond",
          "2015/Inner Richmond",
          "2016/Inner Richmond",
          "2010/Inner Sunset",
          "2011/Inner Sunset",
          "2012/Inner Sunset",
          "2013/Inner Sunset",
          "2014/Inner Sunset",
          "2015/Inner Sunset",
          "2016/Inner Sunset",
          "2010/Jordan Park/Laurel Heights",
          "2011/Jordan Park/Laurel Heights",
          "2012/Jordan Park/Laurel Heights",
          "2013/Jordan Park/Laurel Heights",
          "2014/Jordan Park/Laurel Heights",
          "2015/Jordan Park/Laurel Heights",
          "2016/Jordan Park/Laurel Heights",
          "2010/Lake --The Presidio",
          "2011/Lake --The Presidio",
          "2012/Lake --The Presidio",
          "2013/Lake --The Presidio",
          "2014/Lake --The Presidio",
          "2015/Lake --The Presidio",
          "2010/Lone Mountain",
          "2011/Lone Mountain",
          "2012/Lone Mountain",
          "2013/Lone Mountain",
          "2014/Lone Mountain",
          "2015/Lone Mountain",
          "2010/Lower Pacific Heights",
          "2011/Lower Pacific Heights",
          "2012/Lower Pacific Heights",
          "2013/Lower Pacific Heights",
          "2014/Lower Pacific Heights",
          "2015/Lower Pacific Heights",
          "2016/Lower Pacific Heights",
          "2010/Marina",
          "2011/Marina",
          "2012/Marina",
          "2013/Marina",
          "2014/Marina",
          "2015/Marina",
          "2016/Marina",
          "2012/Merced Heights",
          "2014/Merced Heights",
          "2016/Merced Heights",
          "2012/Midtown Terrace",
          "2013/Midtown Terrace",
          "2010/Miraloma Park",
          "2011/Miraloma Park",
          "2012/Miraloma Park",
          "2014/Miraloma Park",
          "2010/Mission Bay",
          "2011/Mission Bay",
          "2012/Mission Bay",
          "2013/Mission Bay",
          "2014/Mission Bay",
          "2016/Mission Bay",
          "2010/Mission Dolores",
          "2011/Mission Dolores",
          "2012/Mission Dolores",
          "2013/Mission Dolores",
          "2014/Mission Dolores",
          "2015/Mission Dolores",
          "2010/Mission Terrace",
          "2013/Mission Terrace",
          "2014/Mission Terrace",
          "2015/Mission Terrace",
          "2016/Mission Terrace",
          "2010/Nob Hill",
          "2011/Nob Hill",
          "2012/Nob Hill",
          "2013/Nob Hill",
          "2014/Nob Hill",
          "2015/Nob Hill",
          "2016/Nob Hill",
          "2010/Noe Valley",
          "2011/Noe Valley",
          "2012/Noe Valley",
          "2013/Noe Valley",
          "2014/Noe Valley",
          "2015/Noe Valley",
          "2016/Noe Valley",
          "2011/North Beach",
          "2012/North Beach",
          "2013/North Beach",
          "2015/North Beach",
          "2016/North Beach",
          "2011/North Waterfront",
          "2012/North Waterfront",
          "2013/North Waterfront",
          "2014/North Waterfront",
          "2015/North Waterfront",
          "2010/Oceanview",
          "2012/Oceanview",
          "2015/Oceanview",
          "2011/Outer Mission",
          "2012/Outer Mission",
          "2015/Outer Mission",
          "2016/Outer Mission",
          "2010/Outer Parkside",
          "2011/Outer Parkside",
          "2012/Outer Parkside",
          "2013/Outer Parkside",
          "2014/Outer Parkside",
          "2015/Outer Parkside",
          "2016/Outer Parkside",
          "2010/Outer Richmond ",
          "2011/Outer Richmond ",
          "2012/Outer Richmond ",
          "2013/Outer Richmond ",
          "2014/Outer Richmond ",
          "2015/Outer Richmond ",
          "2016/Outer Richmond ",
          "2010/Outer Sunset",
          "2011/Outer Sunset",
          "2012/Outer Sunset",
          "2013/Outer Sunset",
          "2014/Outer Sunset",
          "2015/Outer Sunset",
          "2016/Outer Sunset",
          "2010/Pacific Heights",
          "2011/Pacific Heights",
          "2012/Pacific Heights",
          "2013/Pacific Heights",
          "2014/Pacific Heights",
          "2015/Pacific Heights",
          "2016/Pacific Heights",
          "2010/Park North",
          "2011/Park North",
          "2012/Park North",
          "2013/Park North",
          "2014/Park North",
          "2015/Park North",
          "2016/Park North",
          "2010/Parkside",
          "2011/Parkside",
          "2012/Parkside",
          "2013/Parkside",
          "2014/Parkside",
          "2015/Parkside",
          "2010/Parnassus/Ashbury Heights",
          "2011/Parnassus/Ashbury Heights",
          "2012/Parnassus/Ashbury Heights",
          "2013/Parnassus/Ashbury Heights",
          "2014/Parnassus/Ashbury Heights",
          "2015/Parnassus/Ashbury Heights",
          "2016/Parnassus/Ashbury Heights",
          "2010/Portola",
          "2011/Portola",
          "2012/Portola",
          "2013/Portola",
          "2014/Portola",
          "2010/Potrero Hill",
          "2011/Potrero Hill",
          "2012/Potrero Hill",
          "2013/Potrero Hill",
          "2014/Potrero Hill",
          "2015/Potrero Hill",
          "2016/Potrero Hill",
          "2010/Presidio Heights",
          "2011/Presidio Heights",
          "2012/Presidio Heights",
          "2013/Presidio Heights",
          "2014/Presidio Heights",
          "2015/Presidio Heights",
          "2016/Presidio Heights",
          "2010/Russian Hill",
          "2011/Russian Hill",
          "2012/Russian Hill",
          "2013/Russian Hill",
          "2014/Russian Hill",
          "2015/Russian Hill",
          "2016/Russian Hill",
          "2014/Silver Terrace",
          "2010/South Beach",
          "2011/South Beach",
          "2014/South Beach",
          "2010/South of Market",
          "2011/South of Market",
          "2012/South of Market",
          "2013/South of Market",
          "2014/South of Market",
          "2015/South of Market",
          "2016/South of Market",
          "2010/Sunnyside",
          "2011/Sunnyside",
          "2013/Sunnyside",
          "2014/Sunnyside",
          "2015/Sunnyside",
          "2016/Sunnyside",
          "2010/Telegraph Hill",
          "2011/Telegraph Hill",
          "2012/Telegraph Hill",
          "2013/Telegraph Hill",
          "2014/Telegraph Hill",
          "2015/Telegraph Hill",
          "2016/Telegraph Hill",
          "2010/Twin Peaks",
          "2011/Twin Peaks",
          "2012/Twin Peaks",
          "2013/Twin Peaks",
          "2014/Twin Peaks",
          "2015/Twin Peaks",
          "2016/Twin Peaks",
          "2010/Union Square District",
          "2011/Union Square District",
          "2012/Union Square District",
          "2013/Union Square District",
          "2014/Union Square District",
          "2015/Union Square District",
          "2010/Van Ness/ Civic Center",
          "2011/Van Ness/ Civic Center",
          "2012/Van Ness/ Civic Center",
          "2013/Van Ness/ Civic Center",
          "2014/Van Ness/ Civic Center",
          "2015/Van Ness/ Civic Center",
          "2016/Van Ness/ Civic Center",
          "2013/Visitacion Valley",
          "2014/Visitacion Valley",
          "2015/Visitacion Valley",
          "2016/Visitacion Valley",
          "2010/West Portal",
          "2012/West Portal",
          "2013/West Portal",
          "2014/West Portal",
          "2010/Western Addition",
          "2011/Western Addition",
          "2012/Western Addition",
          "2013/Western Addition",
          "2014/Western Addition",
          "2015/Western Addition",
          "2011/Westwood Highlands",
          "2013/Westwood Highlands",
          "2014/Westwood Park",
          "2016/Westwood Park",
          "2010/Yerba Buena",
          "2011/Yerba Buena",
          "2012/Yerba Buena",
          "2013/Yerba Buena",
          "2014/Yerba Buena",
          "2015/Yerba Buena",
          "2010",
          "2011",
          "2012",
          "2013",
          "2014",
          "2015",
          "2016"
         ],
         "labels": [
          "Alamo Square",
          "Alamo Square",
          "Alamo Square",
          "Alamo Square",
          "Alamo Square",
          "Alamo Square",
          "Alamo Square",
          "Anza Vista",
          "Anza Vista",
          "Anza Vista",
          "Anza Vista",
          "Anza Vista",
          "Anza Vista",
          "Bayview",
          "Bayview",
          "Bayview",
          "Bayview",
          "Bayview",
          "Bayview Heights",
          "Bernal Heights ",
          "Bernal Heights ",
          "Bernal Heights ",
          "Bernal Heights ",
          "Bernal Heights ",
          "Bernal Heights ",
          "Buena Vista Park",
          "Buena Vista Park",
          "Buena Vista Park",
          "Buena Vista Park",
          "Buena Vista Park",
          "Buena Vista Park",
          "Central Richmond",
          "Central Richmond",
          "Central Richmond",
          "Central Richmond",
          "Central Richmond",
          "Central Richmond",
          "Central Richmond",
          "Central Sunset",
          "Central Sunset",
          "Central Sunset",
          "Central Sunset",
          "Central Sunset",
          "Central Sunset",
          "Central Sunset",
          "Clarendon Heights",
          "Clarendon Heights",
          "Corona Heights",
          "Corona Heights",
          "Corona Heights",
          "Corona Heights",
          "Corona Heights",
          "Cow Hollow",
          "Cow Hollow",
          "Cow Hollow",
          "Cow Hollow",
          "Cow Hollow",
          "Cow Hollow",
          "Cow Hollow",
          "Croker Amazon",
          "Croker Amazon",
          "Croker Amazon",
          "Croker Amazon",
          "Croker Amazon",
          "Croker Amazon",
          "Diamond Heights",
          "Diamond Heights",
          "Diamond Heights",
          "Diamond Heights",
          "Downtown ",
          "Downtown ",
          "Downtown ",
          "Downtown ",
          "Downtown ",
          "Downtown ",
          "Downtown ",
          "Duboce Triangle",
          "Duboce Triangle",
          "Duboce Triangle",
          "Duboce Triangle",
          "Eureka Valley/Dolores Heights",
          "Eureka Valley/Dolores Heights",
          "Eureka Valley/Dolores Heights",
          "Eureka Valley/Dolores Heights",
          "Eureka Valley/Dolores Heights",
          "Eureka Valley/Dolores Heights",
          "Eureka Valley/Dolores Heights",
          "Excelsior",
          "Excelsior",
          "Excelsior",
          "Excelsior",
          "Excelsior",
          "Excelsior",
          "Financial District North",
          "Financial District North",
          "Financial District North",
          "Financial District North",
          "Financial District North",
          "Financial District North",
          "Financial District North",
          "Financial District South",
          "Financial District South",
          "Financial District South",
          "Financial District South",
          "Financial District South",
          "Forest Knolls",
          "Forest Knolls",
          "Glen Park",
          "Glen Park",
          "Glen Park",
          "Glen Park",
          "Glen Park",
          "Glen Park",
          "Golden Gate Heights",
          "Golden Gate Heights",
          "Golden Gate Heights",
          "Golden Gate Heights",
          "Golden Gate Heights",
          "Haight Ashbury",
          "Haight Ashbury",
          "Haight Ashbury",
          "Haight Ashbury",
          "Haight Ashbury",
          "Haight Ashbury",
          "Haight Ashbury",
          "Hayes Valley",
          "Hayes Valley",
          "Hayes Valley",
          "Hayes Valley",
          "Hayes Valley",
          "Hayes Valley",
          "Hayes Valley",
          "Hunters Point",
          "Hunters Point",
          "Ingleside ",
          "Ingleside ",
          "Ingleside ",
          "Ingleside ",
          "Ingleside Heights",
          "Ingleside Heights",
          "Inner Mission",
          "Inner Mission",
          "Inner Mission",
          "Inner Mission",
          "Inner Mission",
          "Inner Mission",
          "Inner Mission",
          "Inner Parkside",
          "Inner Parkside",
          "Inner Parkside",
          "Inner Parkside",
          "Inner Richmond",
          "Inner Richmond",
          "Inner Richmond",
          "Inner Richmond",
          "Inner Richmond",
          "Inner Richmond",
          "Inner Richmond",
          "Inner Sunset",
          "Inner Sunset",
          "Inner Sunset",
          "Inner Sunset",
          "Inner Sunset",
          "Inner Sunset",
          "Inner Sunset",
          "Jordan Park/Laurel Heights",
          "Jordan Park/Laurel Heights",
          "Jordan Park/Laurel Heights",
          "Jordan Park/Laurel Heights",
          "Jordan Park/Laurel Heights",
          "Jordan Park/Laurel Heights",
          "Jordan Park/Laurel Heights",
          "Lake --The Presidio",
          "Lake --The Presidio",
          "Lake --The Presidio",
          "Lake --The Presidio",
          "Lake --The Presidio",
          "Lake --The Presidio",
          "Lone Mountain",
          "Lone Mountain",
          "Lone Mountain",
          "Lone Mountain",
          "Lone Mountain",
          "Lone Mountain",
          "Lower Pacific Heights",
          "Lower Pacific Heights",
          "Lower Pacific Heights",
          "Lower Pacific Heights",
          "Lower Pacific Heights",
          "Lower Pacific Heights",
          "Lower Pacific Heights",
          "Marina",
          "Marina",
          "Marina",
          "Marina",
          "Marina",
          "Marina",
          "Marina",
          "Merced Heights",
          "Merced Heights",
          "Merced Heights",
          "Midtown Terrace",
          "Midtown Terrace",
          "Miraloma Park",
          "Miraloma Park",
          "Miraloma Park",
          "Miraloma Park",
          "Mission Bay",
          "Mission Bay",
          "Mission Bay",
          "Mission Bay",
          "Mission Bay",
          "Mission Bay",
          "Mission Dolores",
          "Mission Dolores",
          "Mission Dolores",
          "Mission Dolores",
          "Mission Dolores",
          "Mission Dolores",
          "Mission Terrace",
          "Mission Terrace",
          "Mission Terrace",
          "Mission Terrace",
          "Mission Terrace",
          "Nob Hill",
          "Nob Hill",
          "Nob Hill",
          "Nob Hill",
          "Nob Hill",
          "Nob Hill",
          "Nob Hill",
          "Noe Valley",
          "Noe Valley",
          "Noe Valley",
          "Noe Valley",
          "Noe Valley",
          "Noe Valley",
          "Noe Valley",
          "North Beach",
          "North Beach",
          "North Beach",
          "North Beach",
          "North Beach",
          "North Waterfront",
          "North Waterfront",
          "North Waterfront",
          "North Waterfront",
          "North Waterfront",
          "Oceanview",
          "Oceanview",
          "Oceanview",
          "Outer Mission",
          "Outer Mission",
          "Outer Mission",
          "Outer Mission",
          "Outer Parkside",
          "Outer Parkside",
          "Outer Parkside",
          "Outer Parkside",
          "Outer Parkside",
          "Outer Parkside",
          "Outer Parkside",
          "Outer Richmond ",
          "Outer Richmond ",
          "Outer Richmond ",
          "Outer Richmond ",
          "Outer Richmond ",
          "Outer Richmond ",
          "Outer Richmond ",
          "Outer Sunset",
          "Outer Sunset",
          "Outer Sunset",
          "Outer Sunset",
          "Outer Sunset",
          "Outer Sunset",
          "Outer Sunset",
          "Pacific Heights",
          "Pacific Heights",
          "Pacific Heights",
          "Pacific Heights",
          "Pacific Heights",
          "Pacific Heights",
          "Pacific Heights",
          "Park North",
          "Park North",
          "Park North",
          "Park North",
          "Park North",
          "Park North",
          "Park North",
          "Parkside",
          "Parkside",
          "Parkside",
          "Parkside",
          "Parkside",
          "Parkside",
          "Parnassus/Ashbury Heights",
          "Parnassus/Ashbury Heights",
          "Parnassus/Ashbury Heights",
          "Parnassus/Ashbury Heights",
          "Parnassus/Ashbury Heights",
          "Parnassus/Ashbury Heights",
          "Parnassus/Ashbury Heights",
          "Portola",
          "Portola",
          "Portola",
          "Portola",
          "Portola",
          "Potrero Hill",
          "Potrero Hill",
          "Potrero Hill",
          "Potrero Hill",
          "Potrero Hill",
          "Potrero Hill",
          "Potrero Hill",
          "Presidio Heights",
          "Presidio Heights",
          "Presidio Heights",
          "Presidio Heights",
          "Presidio Heights",
          "Presidio Heights",
          "Presidio Heights",
          "Russian Hill",
          "Russian Hill",
          "Russian Hill",
          "Russian Hill",
          "Russian Hill",
          "Russian Hill",
          "Russian Hill",
          "Silver Terrace",
          "South Beach",
          "South Beach",
          "South Beach",
          "South of Market",
          "South of Market",
          "South of Market",
          "South of Market",
          "South of Market",
          "South of Market",
          "South of Market",
          "Sunnyside",
          "Sunnyside",
          "Sunnyside",
          "Sunnyside",
          "Sunnyside",
          "Sunnyside",
          "Telegraph Hill",
          "Telegraph Hill",
          "Telegraph Hill",
          "Telegraph Hill",
          "Telegraph Hill",
          "Telegraph Hill",
          "Telegraph Hill",
          "Twin Peaks",
          "Twin Peaks",
          "Twin Peaks",
          "Twin Peaks",
          "Twin Peaks",
          "Twin Peaks",
          "Twin Peaks",
          "Union Square District",
          "Union Square District",
          "Union Square District",
          "Union Square District",
          "Union Square District",
          "Union Square District",
          "Van Ness/ Civic Center",
          "Van Ness/ Civic Center",
          "Van Ness/ Civic Center",
          "Van Ness/ Civic Center",
          "Van Ness/ Civic Center",
          "Van Ness/ Civic Center",
          "Van Ness/ Civic Center",
          "Visitacion Valley",
          "Visitacion Valley",
          "Visitacion Valley",
          "Visitacion Valley",
          "West Portal",
          "West Portal",
          "West Portal",
          "West Portal",
          "Western Addition",
          "Western Addition",
          "Western Addition",
          "Western Addition",
          "Western Addition",
          "Western Addition",
          "Westwood Highlands",
          "Westwood Highlands",
          "Westwood Park",
          "Westwood Park",
          "Yerba Buena",
          "Yerba Buena",
          "Yerba Buena",
          "Yerba Buena",
          "Yerba Buena",
          "Yerba Buena",
          "2010",
          "2011",
          "2012",
          "2013",
          "2014",
          "2015",
          "2016"
         ],
         "marker": {
          "coloraxis": "coloraxis",
          "colors": [
           1239,
           1530,
           2324,
           2971,
           3528,
           3739,
           4390,
           1239,
           2324,
           2971,
           3528,
           3739,
           4390,
           1239,
           1529.9999999999998,
           2324,
           2971,
           3528,
           3739,
           1530,
           2324,
           2971,
           3528,
           3739,
           4390,
           1239,
           1530,
           2324,
           2971,
           3739,
           4390,
           1239,
           1530,
           2324,
           2971,
           3528,
           3739,
           4390,
           1239,
           1530.0000000000002,
           2324,
           2971,
           3528,
           3739,
           4390,
           1530,
           2971,
           1239,
           1530,
           2324,
           3528,
           3739,
           1239,
           1529.9999999999998,
           2324,
           2971,
           3527.9999999999995,
           3739.0000000000005,
           4390,
           1239,
           1530,
           2324,
           2971,
           3739,
           4390,
           1239,
           1530.0000000000002,
           2324,
           2971,
           1239,
           1530,
           2324,
           2971,
           3528.0000000000005,
           3739,
           4390,
           1530,
           2323.9999999999995,
           3528.0000000000005,
           3738.9999999999995,
           1239,
           1530.0000000000002,
           2324,
           2971,
           3528.0000000000005,
           3739,
           4390,
           1239,
           2324,
           2971,
           3528,
           3739,
           4390,
           1239,
           1530,
           2324,
           2971,
           3527.9999999999995,
           3739,
           null,
           1239,
           1530,
           2324,
           3527.9999999999995,
           3739,
           1239,
           2324,
           1239,
           1530,
           2971,
           3528,
           3739,
           4390,
           1239,
           1529.9999999999998,
           2971,
           3528,
           3739,
           1239,
           1530,
           2324,
           2971,
           3528,
           3738.9999999999995,
           4390,
           1239,
           1530,
           2324,
           2971,
           3528,
           3739,
           4390,
           1239,
           null,
           1239,
           1529.9999999999998,
           3528,
           3738.9999999999995,
           1530.0000000000002,
           4390,
           1239,
           1530,
           2324,
           2971,
           3528,
           3739,
           4390,
           1239,
           3528.0000000000005,
           3739.0000000000005,
           4390,
           1239,
           1530,
           2324,
           2971,
           3528,
           3739,
           4390,
           1239,
           1530,
           2324,
           2971,
           3528,
           3739.0000000000005,
           4390,
           1239,
           1530,
           2324,
           2971,
           3528,
           3739,
           4390,
           1239,
           1530,
           2324,
           2971,
           3528.0000000000005,
           3739,
           1239,
           1530,
           2324,
           2971,
           3528,
           3739,
           1239,
           1530,
           2324,
           2971,
           3528,
           3739,
           4390,
           1239,
           1530,
           2324,
           2971,
           3528.0000000000005,
           3739,
           4390,
           2324,
           3528,
           4390,
           2324,
           2971,
           1239,
           1530,
           2324,
           3528.0000000000005,
           1239,
           1530,
           2324,
           null,
           3528.0000000000005,
           4390,
           1239,
           1530,
           2324,
           2971,
           3528,
           3739.0000000000005,
           1239,
           2971,
           3528,
           3739,
           4390,
           1239,
           1530,
           2324,
           2971,
           3528,
           3739,
           4390,
           1239,
           1530,
           2324,
           2971,
           3527.9999999999995,
           3739,
           4390,
           1530,
           2324,
           2970.9999999999995,
           3739,
           4390,
           1530,
           2324,
           2971,
           3528,
           3739,
           1239,
           2324,
           3739,
           1530,
           2324,
           3738.9999999999995,
           4390,
           1239,
           1530,
           2324,
           2971,
           3528.0000000000005,
           3739,
           4390,
           1239,
           1530,
           2324,
           2971,
           3528,
           3739,
           4390,
           1239,
           1530,
           2324,
           2971,
           3528,
           3739,
           4390,
           1239,
           1530,
           2324,
           2971,
           3528,
           3739,
           4390,
           1239,
           1530,
           2324,
           2971,
           3528,
           3739,
           4390,
           1239,
           1530,
           2324,
           2971,
           3528,
           null,
           1239,
           1530,
           2324,
           2971,
           3528,
           3739,
           4390,
           1239,
           1530,
           2324,
           2971,
           3528,
           1239,
           1530,
           2324,
           2971,
           3528,
           3739,
           4390,
           1239,
           1530,
           2324,
           2971,
           3528,
           null,
           4390,
           1239,
           1529.9999999999998,
           2324,
           2971,
           3528,
           3738.9999999999995,
           4390,
           3528,
           1239,
           1529.9999999999998,
           3528,
           1239,
           1530,
           2324,
           2971,
           3528,
           3739,
           4390,
           1239,
           1530,
           2971,
           3528,
           3739,
           4390,
           1239,
           1530,
           2324,
           2971,
           3527.9999999999995,
           3739,
           4390,
           1239,
           1530,
           2324,
           2971,
           3528,
           3739,
           4390,
           1239,
           1530,
           2324,
           2971,
           3528,
           3739.0000000000005,
           1239,
           1530,
           2324,
           2971,
           3528,
           3739,
           4390,
           2971,
           3528,
           3739.0000000000005,
           4390,
           1239,
           2324,
           2971,
           3528,
           1239,
           1530,
           2324,
           2971,
           3528,
           3739,
           1530,
           2971,
           3528.0000000000005,
           4390,
           1239,
           1530,
           2324,
           2971,
           3528,
           3739,
           1239,
           1529.9999999999998,
           2324,
           null,
           3528,
           null,
           null
          ]
         },
         "name": "",
         "parents": [
          "2010",
          "2011",
          "2012",
          "2013",
          "2014",
          "2015",
          "2016",
          "2010",
          "2012",
          "2013",
          "2014",
          "2015",
          "2016",
          "2010",
          "2011",
          "2012",
          "2013",
          "2014",
          "2015",
          "2011",
          "2012",
          "2013",
          "2014",
          "2015",
          "2016",
          "2010",
          "2011",
          "2012",
          "2013",
          "2015",
          "2016",
          "2010",
          "2011",
          "2012",
          "2013",
          "2014",
          "2015",
          "2016",
          "2010",
          "2011",
          "2012",
          "2013",
          "2014",
          "2015",
          "2016",
          "2011",
          "2013",
          "2010",
          "2011",
          "2012",
          "2014",
          "2015",
          "2010",
          "2011",
          "2012",
          "2013",
          "2014",
          "2015",
          "2016",
          "2010",
          "2011",
          "2012",
          "2013",
          "2015",
          "2016",
          "2010",
          "2011",
          "2012",
          "2013",
          "2010",
          "2011",
          "2012",
          "2013",
          "2014",
          "2015",
          "2016",
          "2011",
          "2012",
          "2014",
          "2015",
          "2010",
          "2011",
          "2012",
          "2013",
          "2014",
          "2015",
          "2016",
          "2010",
          "2012",
          "2013",
          "2014",
          "2015",
          "2016",
          "2010",
          "2011",
          "2012",
          "2013",
          "2014",
          "2015",
          "2016",
          "2010",
          "2011",
          "2012",
          "2014",
          "2015",
          "2010",
          "2012",
          "2010",
          "2011",
          "2013",
          "2014",
          "2015",
          "2016",
          "2010",
          "2011",
          "2013",
          "2014",
          "2015",
          "2010",
          "2011",
          "2012",
          "2013",
          "2014",
          "2015",
          "2016",
          "2010",
          "2011",
          "2012",
          "2013",
          "2014",
          "2015",
          "2016",
          "2010",
          "2015",
          "2010",
          "2011",
          "2014",
          "2015",
          "2011",
          "2016",
          "2010",
          "2011",
          "2012",
          "2013",
          "2014",
          "2015",
          "2016",
          "2010",
          "2014",
          "2015",
          "2016",
          "2010",
          "2011",
          "2012",
          "2013",
          "2014",
          "2015",
          "2016",
          "2010",
          "2011",
          "2012",
          "2013",
          "2014",
          "2015",
          "2016",
          "2010",
          "2011",
          "2012",
          "2013",
          "2014",
          "2015",
          "2016",
          "2010",
          "2011",
          "2012",
          "2013",
          "2014",
          "2015",
          "2010",
          "2011",
          "2012",
          "2013",
          "2014",
          "2015",
          "2010",
          "2011",
          "2012",
          "2013",
          "2014",
          "2015",
          "2016",
          "2010",
          "2011",
          "2012",
          "2013",
          "2014",
          "2015",
          "2016",
          "2012",
          "2014",
          "2016",
          "2012",
          "2013",
          "2010",
          "2011",
          "2012",
          "2014",
          "2010",
          "2011",
          "2012",
          "2013",
          "2014",
          "2016",
          "2010",
          "2011",
          "2012",
          "2013",
          "2014",
          "2015",
          "2010",
          "2013",
          "2014",
          "2015",
          "2016",
          "2010",
          "2011",
          "2012",
          "2013",
          "2014",
          "2015",
          "2016",
          "2010",
          "2011",
          "2012",
          "2013",
          "2014",
          "2015",
          "2016",
          "2011",
          "2012",
          "2013",
          "2015",
          "2016",
          "2011",
          "2012",
          "2013",
          "2014",
          "2015",
          "2010",
          "2012",
          "2015",
          "2011",
          "2012",
          "2015",
          "2016",
          "2010",
          "2011",
          "2012",
          "2013",
          "2014",
          "2015",
          "2016",
          "2010",
          "2011",
          "2012",
          "2013",
          "2014",
          "2015",
          "2016",
          "2010",
          "2011",
          "2012",
          "2013",
          "2014",
          "2015",
          "2016",
          "2010",
          "2011",
          "2012",
          "2013",
          "2014",
          "2015",
          "2016",
          "2010",
          "2011",
          "2012",
          "2013",
          "2014",
          "2015",
          "2016",
          "2010",
          "2011",
          "2012",
          "2013",
          "2014",
          "2015",
          "2010",
          "2011",
          "2012",
          "2013",
          "2014",
          "2015",
          "2016",
          "2010",
          "2011",
          "2012",
          "2013",
          "2014",
          "2010",
          "2011",
          "2012",
          "2013",
          "2014",
          "2015",
          "2016",
          "2010",
          "2011",
          "2012",
          "2013",
          "2014",
          "2015",
          "2016",
          "2010",
          "2011",
          "2012",
          "2013",
          "2014",
          "2015",
          "2016",
          "2014",
          "2010",
          "2011",
          "2014",
          "2010",
          "2011",
          "2012",
          "2013",
          "2014",
          "2015",
          "2016",
          "2010",
          "2011",
          "2013",
          "2014",
          "2015",
          "2016",
          "2010",
          "2011",
          "2012",
          "2013",
          "2014",
          "2015",
          "2016",
          "2010",
          "2011",
          "2012",
          "2013",
          "2014",
          "2015",
          "2016",
          "2010",
          "2011",
          "2012",
          "2013",
          "2014",
          "2015",
          "2010",
          "2011",
          "2012",
          "2013",
          "2014",
          "2015",
          "2016",
          "2013",
          "2014",
          "2015",
          "2016",
          "2010",
          "2012",
          "2013",
          "2014",
          "2010",
          "2011",
          "2012",
          "2013",
          "2014",
          "2015",
          "2011",
          "2013",
          "2014",
          "2016",
          "2010",
          "2011",
          "2012",
          "2013",
          "2014",
          "2015",
          "",
          "",
          "",
          "",
          "",
          "",
          ""
         ],
         "type": "sunburst",
         "values": [
          291.1829454722909,
          272.5273101795261,
          183.09931693145705,
          387.7941437968134,
          484.4435521706776,
          602.1158769435003,
          340.98183523166995,
          267.9325826799483,
          344.4909139677922,
          453.3404982986993,
          620.4414065565543,
          465.6862745098039,
          88.40151094606406,
          170.09866536400102,
          172.54056243085554,
          165.7980623916543,
          259.54716259308043,
          254.9586616327385,
          590.7928388746803,
          471.9217320911283,
          368.2665607883851,
          630.8973025513741,
          544.5469286452765,
          458.00429934010754,
          986.842105263158,
          347.39491940371136,
          171.7723466866044,
          338.60116351046344,
          455.2180887853926,
          551.6956218496264,
          851.4014053492667,
          319.0276225530687,
          261.6638003416518,
          279.0301399218751,
          343.0542609770136,
          423.95272693478194,
          473.1638149617127,
          661.0644257703082,
          418.1724927089675,
          391.426449729962,
          334.4878725198492,
          330.7364310191893,
          456.2419957897522,
          453.37937707089696,
          581.3708750724594,
          520.718167530543,
          453.7716045219721,
          369.3593380041366,
          222.567848047696,
          356.79481359087254,
          888.1821435177138,
          1100.7911936704506,
          569.3799679261333,
          390.5956530284181,
          644.8183066758802,
          707.4028088888208,
          691.8654114838455,
          598.6205414959002,
          1059.0656015492618,
          165.64573006507914,
          145.85338027594094,
          415.0903401095623,
          223.11583290346024,
          301.61864706270705,
          566.7011760342162,
          456.9308221979013,
          382.35226106405867,
          366.9954275112727,
          533.6884470076521,
          241.80455206485135,
          234.2816235103544,
          269.109528813633,
          361.4546919822122,
          428.7265326799175,
          485.8868855757771,
          718.7768297452345,
          295.7793782292269,
          452.6600224298405,
          630.3115352378672,
          631.64568632801,
          403.1183126490986,
          413.16280403427527,
          524.8134180834782,
          608.694967227678,
          728.9797158498742,
          790.1803690820187,
          1026.7911075237505,
          364.9283357085176,
          371.0302152741686,
          289.749665708438,
          358.3052387223773,
          414.35585647200105,
          534.2262501283425,
          401.7499665916537,
          281.31290435728306,
          286.35198206738914,
          274.45794363223376,
          409.9438351783924,
          694.358566653677,
          0,
          162.82121004772353,
          354.66555789282774,
          613.8430658201435,
          694.4181461347432,
          453.4330812935196,
          209.04932663469447,
          434.63234651328025,
          715.5864380979737,
          457.41388429762526,
          458.7213317825408,
          553.5627522522698,
          612.1061563311456,
          945.5665024630542,
          551.8011188234774,
          348.92970004124925,
          956.1841219171134,
          567.3400104586142,
          772.7128362001237,
          254.47377914469143,
          392.3534509732681,
          418.83037933269526,
          478.4956365730093,
          496.5510012122899,
          574.2740565313097,
          531.8350322320708,
          272.28497956385485,
          280.73063309393075,
          306.3779578647354,
          491.5892613631572,
          428.9237926791115,
          536.557101875324,
          175.06606919629078,
          170.62491987132685,
          0,
          275.0566856099092,
          356.7090091359044,
          647.6496334575522,
          192.16524813774404,
          198.01587292452024,
          571.5799833446893,
          238.35002040677708,
          283.17495073168755,
          336.8259501844992,
          377.5180155755184,
          464.17584368800914,
          435.9007753824155,
          647.7704471840341,
          199.7020037821992,
          597.200528047448,
          762.5272331154684,
          518.1126504655916,
          285.8223584886826,
          360.03727240448274,
          373.4668636470579,
          302.9673770284064,
          430.9396363161629,
          493.6155576333694,
          403.31113221139015,
          275.76972957461044,
          302.60448945564127,
          325.8289204181606,
          435.5456667813491,
          470.8535298670645,
          639.1464438694404,
          445.9238282688497,
          419.8878118764657,
          610.7666631577347,
          383.1503960980961,
          584.0737147409254,
          426.7863811847511,
          576.4579094375945,
          704.5664189758044,
          320.79691049204627,
          330.10889435237306,
          380.5214843069476,
          568.6511487607912,
          432.9627229749632,
          426.6849522707296,
          398.4588759923028,
          313.33845823084727,
          545.9801982412763,
          376.08359802951554,
          317.22191943039513,
          918.2882682038704,
          374.0576360101685,
          303.54419971618984,
          396.171112391617,
          548.0466890413603,
          716.3765095625199,
          800.0388650775141,
          636.4307703489126,
          387.392839476922,
          390.8184689562141,
          445.2150955424525,
          655.1980415945777,
          642.838478220973,
          1132.8373605554543,
          431.9446020235903,
          421.1412447061912,
          528.7265413888829,
          1416.6666666666667,
          397.9391288956355,
          703.0815676877947,
          680.6087291389301,
          414.6760647760375,
          756.1923725098497,
          1267.7662026328828,
          489.80537777998506,
          506.95217450146765,
          689.5233123659036,
          0,
          220.11108719171108,
          924.5691159025888,
          257.9879986350069,
          293.4042461148187,
          320.9599230279341,
          427.1662661417756,
          642.2195925518146,
          571.7557085689909,
          262.87602564056425,
          591.4020223180053,
          300.1873092016618,
          583.8486362312665,
          879.0170132325142,
          307.67747674427835,
          340.6425969783877,
          307.78311439850694,
          466.0264878531046,
          478.4433517526852,
          529.847319131393,
          777.0083145338547,
          381.1384451470527,
          373.9786870675523,
          428.0219127043747,
          615.0639297056517,
          654.801499892284,
          544.6002639104153,
          799.4956512788842,
          290.9210327099608,
          517.1734931165627,
          393.7173353455039,
          448.86919667679206,
          407.5533215595707,
          346.9611600156022,
          390.3838567783597,
          483.16880334240136,
          379.92536172660726,
          890.9095931764136,
          282.11967050133603,
          442.24265696115737,
          265.9298265032701,
          142.14256751724554,
          221.881138746669,
          564.6874764662282,
          40.7726253518439,
          432.1952921124555,
          241.9456564918158,
          312.8339843623907,
          372.2419861691197,
          650.963515967709,
          652.2879690318528,
          732.7206841423808,
          338.12619999607017,
          271.0901395693276,
          338.63301173022234,
          332.40781536886453,
          401.9350222176535,
          438.46778741967495,
          1196.645436923929,
          368.31155203937294,
          297.2455578459466,
          413.05871935195154,
          322.0822144332409,
          490.3635828672637,
          357.8946922463997,
          510.5769072143791,
          496.5160141469498,
          509.0214800287398,
          586.2182148097696,
          503.8992613300536,
          824.6586936349588,
          910.1876901656898,
          996.3893635634032,
          326.01715041025074,
          289.60560009472283,
          288.0785187599688,
          512.6307219919141,
          371.9242451684327,
          616.5723883169863,
          211.3013698600657,
          274.1667415866912,
          217.55878684527903,
          378.27387843874783,
          364.6246530241702,
          446.2392452904569,
          0,
          434.25500394602585,
          466.6178976523653,
          515.9210732061051,
          425.6422553308095,
          773.4061347806704,
          605.3433249358947,
          1207.997484708169,
          302.15611319728896,
          208.1679967483858,
          351.0432256921308,
          235.99759251727423,
          538.2046985772841,
          491.45000385678617,
          503.13850456030497,
          466.6478402167172,
          598.704795328917,
          1045.2015459222662,
          821.3009904764873,
          707.6516094320913,
          549.4179312485746,
          493.814917282618,
          426.6085920717133,
          512.8402484358224,
          603.4509968798565,
          0,
          1465.9685863874345,
          362.3482239131214,
          448.3201042149405,
          414.16272789686775,
          506.22752218971993,
          714.2220737504065,
          793.2619915605263,
          1024.3398771365155,
          170.2925485152069,
          1037.0997886617895,
          388.6443367815386,
          524.6293121403909,
          401.2959764896399,
          337.9141346436501,
          463.8098989043553,
          420.822184596571,
          1119.8388773148029,
          717.0825412171871,
          531.1363737279744,
          542.5316819894505,
          437.1642994919766,
          505.83481143735054,
          493.45560489574007,
          439.7498835483721,
          751.1737089201878,
          524.7935090952678,
          483.4057725178001,
          465.8021216317738,
          653.3116166908643,
          708.1930316849231,
          996.9902204858652,
          903.0497705987848,
          331.555996145607,
          284.56696642681646,
          304.89964760284107,
          414.43569251368126,
          562.9112337982453,
          417.3353789228001,
          970.08547008547,
          569.1934475267735,
          302.1232528096913,
          445.1967876448792,
          1290.472106646641,
          558.2711194060469,
          2258.702831998355,
          108.0129268765048,
          384.23680203579306,
          345.9580403883176,
          285.0095060630079,
          475.3931868125068,
          677.8382318281795,
          552.6025671312701,
          293.2983722057751,
          282.025468300165,
          302.2218727063018,
          328.31900668576884,
          392.30076417058257,
          325.7954150643371,
          588.0747967826295,
          687.7829633004551,
          215.56913431487555,
          227.4189808649446,
          274.3384600486485,
          217.08906895403533,
          429.4883174233179,
          481.4692442739424,
          320.0743330547439,
          747.3335378171587,
          742.9797231632552,
          631.1954258724091,
          333.1267738419389,
          438.86054508174806,
          491.8140030500954,
          753.0114133184367,
          479.9237488133093,
          963.5226061641274,
          21791.316846436355,
          20172.30232162624,
          23164.618170031514,
          27081.61703862259,
          33376.63640685049,
          34789.719361769305,
          31393.966910244166
         ]
        }
       ],
       "layout": {
        "coloraxis": {
         "colorbar": {
          "title": {
           "text": "gross_rent"
          }
         },
         "colorscale": [
          [
           0,
           "rgb(247,251,255)"
          ],
          [
           0.125,
           "rgb(222,235,247)"
          ],
          [
           0.25,
           "rgb(198,219,239)"
          ],
          [
           0.375,
           "rgb(158,202,225)"
          ],
          [
           0.5,
           "rgb(107,174,214)"
          ],
          [
           0.625,
           "rgb(66,146,198)"
          ],
          [
           0.75,
           "rgb(33,113,181)"
          ],
          [
           0.875,
           "rgb(8,81,156)"
          ],
          [
           1,
           "rgb(8,48,107)"
          ]
         ]
        },
        "height": 700,
        "legend": {
         "tracegroupgap": 0
        },
        "margin": {
         "t": 60
        },
        "template": {
         "data": {
          "bar": [
           {
            "error_x": {
             "color": "#2a3f5f"
            },
            "error_y": {
             "color": "#2a3f5f"
            },
            "marker": {
             "line": {
              "color": "#E5ECF6",
              "width": 0.5
             },
             "pattern": {
              "fillmode": "overlay",
              "size": 10,
              "solidity": 0.2
             }
            },
            "type": "bar"
           }
          ],
          "barpolar": [
           {
            "marker": {
             "line": {
              "color": "#E5ECF6",
              "width": 0.5
             },
             "pattern": {
              "fillmode": "overlay",
              "size": 10,
              "solidity": 0.2
             }
            },
            "type": "barpolar"
           }
          ],
          "carpet": [
           {
            "aaxis": {
             "endlinecolor": "#2a3f5f",
             "gridcolor": "white",
             "linecolor": "white",
             "minorgridcolor": "white",
             "startlinecolor": "#2a3f5f"
            },
            "baxis": {
             "endlinecolor": "#2a3f5f",
             "gridcolor": "white",
             "linecolor": "white",
             "minorgridcolor": "white",
             "startlinecolor": "#2a3f5f"
            },
            "type": "carpet"
           }
          ],
          "choropleth": [
           {
            "colorbar": {
             "outlinewidth": 0,
             "ticks": ""
            },
            "type": "choropleth"
           }
          ],
          "contour": [
           {
            "colorbar": {
             "outlinewidth": 0,
             "ticks": ""
            },
            "colorscale": [
             [
              0,
              "#0d0887"
             ],
             [
              0.1111111111111111,
              "#46039f"
             ],
             [
              0.2222222222222222,
              "#7201a8"
             ],
             [
              0.3333333333333333,
              "#9c179e"
             ],
             [
              0.4444444444444444,
              "#bd3786"
             ],
             [
              0.5555555555555556,
              "#d8576b"
             ],
             [
              0.6666666666666666,
              "#ed7953"
             ],
             [
              0.7777777777777778,
              "#fb9f3a"
             ],
             [
              0.8888888888888888,
              "#fdca26"
             ],
             [
              1,
              "#f0f921"
             ]
            ],
            "type": "contour"
           }
          ],
          "contourcarpet": [
           {
            "colorbar": {
             "outlinewidth": 0,
             "ticks": ""
            },
            "type": "contourcarpet"
           }
          ],
          "heatmap": [
           {
            "colorbar": {
             "outlinewidth": 0,
             "ticks": ""
            },
            "colorscale": [
             [
              0,
              "#0d0887"
             ],
             [
              0.1111111111111111,
              "#46039f"
             ],
             [
              0.2222222222222222,
              "#7201a8"
             ],
             [
              0.3333333333333333,
              "#9c179e"
             ],
             [
              0.4444444444444444,
              "#bd3786"
             ],
             [
              0.5555555555555556,
              "#d8576b"
             ],
             [
              0.6666666666666666,
              "#ed7953"
             ],
             [
              0.7777777777777778,
              "#fb9f3a"
             ],
             [
              0.8888888888888888,
              "#fdca26"
             ],
             [
              1,
              "#f0f921"
             ]
            ],
            "type": "heatmap"
           }
          ],
          "heatmapgl": [
           {
            "colorbar": {
             "outlinewidth": 0,
             "ticks": ""
            },
            "colorscale": [
             [
              0,
              "#0d0887"
             ],
             [
              0.1111111111111111,
              "#46039f"
             ],
             [
              0.2222222222222222,
              "#7201a8"
             ],
             [
              0.3333333333333333,
              "#9c179e"
             ],
             [
              0.4444444444444444,
              "#bd3786"
             ],
             [
              0.5555555555555556,
              "#d8576b"
             ],
             [
              0.6666666666666666,
              "#ed7953"
             ],
             [
              0.7777777777777778,
              "#fb9f3a"
             ],
             [
              0.8888888888888888,
              "#fdca26"
             ],
             [
              1,
              "#f0f921"
             ]
            ],
            "type": "heatmapgl"
           }
          ],
          "histogram": [
           {
            "marker": {
             "pattern": {
              "fillmode": "overlay",
              "size": 10,
              "solidity": 0.2
             }
            },
            "type": "histogram"
           }
          ],
          "histogram2d": [
           {
            "colorbar": {
             "outlinewidth": 0,
             "ticks": ""
            },
            "colorscale": [
             [
              0,
              "#0d0887"
             ],
             [
              0.1111111111111111,
              "#46039f"
             ],
             [
              0.2222222222222222,
              "#7201a8"
             ],
             [
              0.3333333333333333,
              "#9c179e"
             ],
             [
              0.4444444444444444,
              "#bd3786"
             ],
             [
              0.5555555555555556,
              "#d8576b"
             ],
             [
              0.6666666666666666,
              "#ed7953"
             ],
             [
              0.7777777777777778,
              "#fb9f3a"
             ],
             [
              0.8888888888888888,
              "#fdca26"
             ],
             [
              1,
              "#f0f921"
             ]
            ],
            "type": "histogram2d"
           }
          ],
          "histogram2dcontour": [
           {
            "colorbar": {
             "outlinewidth": 0,
             "ticks": ""
            },
            "colorscale": [
             [
              0,
              "#0d0887"
             ],
             [
              0.1111111111111111,
              "#46039f"
             ],
             [
              0.2222222222222222,
              "#7201a8"
             ],
             [
              0.3333333333333333,
              "#9c179e"
             ],
             [
              0.4444444444444444,
              "#bd3786"
             ],
             [
              0.5555555555555556,
              "#d8576b"
             ],
             [
              0.6666666666666666,
              "#ed7953"
             ],
             [
              0.7777777777777778,
              "#fb9f3a"
             ],
             [
              0.8888888888888888,
              "#fdca26"
             ],
             [
              1,
              "#f0f921"
             ]
            ],
            "type": "histogram2dcontour"
           }
          ],
          "mesh3d": [
           {
            "colorbar": {
             "outlinewidth": 0,
             "ticks": ""
            },
            "type": "mesh3d"
           }
          ],
          "parcoords": [
           {
            "line": {
             "colorbar": {
              "outlinewidth": 0,
              "ticks": ""
             }
            },
            "type": "parcoords"
           }
          ],
          "pie": [
           {
            "automargin": true,
            "type": "pie"
           }
          ],
          "scatter": [
           {
            "fillpattern": {
             "fillmode": "overlay",
             "size": 10,
             "solidity": 0.2
            },
            "type": "scatter"
           }
          ],
          "scatter3d": [
           {
            "line": {
             "colorbar": {
              "outlinewidth": 0,
              "ticks": ""
             }
            },
            "marker": {
             "colorbar": {
              "outlinewidth": 0,
              "ticks": ""
             }
            },
            "type": "scatter3d"
           }
          ],
          "scattercarpet": [
           {
            "marker": {
             "colorbar": {
              "outlinewidth": 0,
              "ticks": ""
             }
            },
            "type": "scattercarpet"
           }
          ],
          "scattergeo": [
           {
            "marker": {
             "colorbar": {
              "outlinewidth": 0,
              "ticks": ""
             }
            },
            "type": "scattergeo"
           }
          ],
          "scattergl": [
           {
            "marker": {
             "colorbar": {
              "outlinewidth": 0,
              "ticks": ""
             }
            },
            "type": "scattergl"
           }
          ],
          "scattermapbox": [
           {
            "marker": {
             "colorbar": {
              "outlinewidth": 0,
              "ticks": ""
             }
            },
            "type": "scattermapbox"
           }
          ],
          "scatterpolar": [
           {
            "marker": {
             "colorbar": {
              "outlinewidth": 0,
              "ticks": ""
             }
            },
            "type": "scatterpolar"
           }
          ],
          "scatterpolargl": [
           {
            "marker": {
             "colorbar": {
              "outlinewidth": 0,
              "ticks": ""
             }
            },
            "type": "scatterpolargl"
           }
          ],
          "scatterternary": [
           {
            "marker": {
             "colorbar": {
              "outlinewidth": 0,
              "ticks": ""
             }
            },
            "type": "scatterternary"
           }
          ],
          "surface": [
           {
            "colorbar": {
             "outlinewidth": 0,
             "ticks": ""
            },
            "colorscale": [
             [
              0,
              "#0d0887"
             ],
             [
              0.1111111111111111,
              "#46039f"
             ],
             [
              0.2222222222222222,
              "#7201a8"
             ],
             [
              0.3333333333333333,
              "#9c179e"
             ],
             [
              0.4444444444444444,
              "#bd3786"
             ],
             [
              0.5555555555555556,
              "#d8576b"
             ],
             [
              0.6666666666666666,
              "#ed7953"
             ],
             [
              0.7777777777777778,
              "#fb9f3a"
             ],
             [
              0.8888888888888888,
              "#fdca26"
             ],
             [
              1,
              "#f0f921"
             ]
            ],
            "type": "surface"
           }
          ],
          "table": [
           {
            "cells": {
             "fill": {
              "color": "#EBF0F8"
             },
             "line": {
              "color": "white"
             }
            },
            "header": {
             "fill": {
              "color": "#C8D4E3"
             },
             "line": {
              "color": "white"
             }
            },
            "type": "table"
           }
          ]
         },
         "layout": {
          "annotationdefaults": {
           "arrowcolor": "#2a3f5f",
           "arrowhead": 0,
           "arrowwidth": 1
          },
          "autotypenumbers": "strict",
          "coloraxis": {
           "colorbar": {
            "outlinewidth": 0,
            "ticks": ""
           }
          },
          "colorscale": {
           "diverging": [
            [
             0,
             "#8e0152"
            ],
            [
             0.1,
             "#c51b7d"
            ],
            [
             0.2,
             "#de77ae"
            ],
            [
             0.3,
             "#f1b6da"
            ],
            [
             0.4,
             "#fde0ef"
            ],
            [
             0.5,
             "#f7f7f7"
            ],
            [
             0.6,
             "#e6f5d0"
            ],
            [
             0.7,
             "#b8e186"
            ],
            [
             0.8,
             "#7fbc41"
            ],
            [
             0.9,
             "#4d9221"
            ],
            [
             1,
             "#276419"
            ]
           ],
           "sequential": [
            [
             0,
             "#0d0887"
            ],
            [
             0.1111111111111111,
             "#46039f"
            ],
            [
             0.2222222222222222,
             "#7201a8"
            ],
            [
             0.3333333333333333,
             "#9c179e"
            ],
            [
             0.4444444444444444,
             "#bd3786"
            ],
            [
             0.5555555555555556,
             "#d8576b"
            ],
            [
             0.6666666666666666,
             "#ed7953"
            ],
            [
             0.7777777777777778,
             "#fb9f3a"
            ],
            [
             0.8888888888888888,
             "#fdca26"
            ],
            [
             1,
             "#f0f921"
            ]
           ],
           "sequentialminus": [
            [
             0,
             "#0d0887"
            ],
            [
             0.1111111111111111,
             "#46039f"
            ],
            [
             0.2222222222222222,
             "#7201a8"
            ],
            [
             0.3333333333333333,
             "#9c179e"
            ],
            [
             0.4444444444444444,
             "#bd3786"
            ],
            [
             0.5555555555555556,
             "#d8576b"
            ],
            [
             0.6666666666666666,
             "#ed7953"
            ],
            [
             0.7777777777777778,
             "#fb9f3a"
            ],
            [
             0.8888888888888888,
             "#fdca26"
            ],
            [
             1,
             "#f0f921"
            ]
           ]
          },
          "colorway": [
           "#636efa",
           "#EF553B",
           "#00cc96",
           "#ab63fa",
           "#FFA15A",
           "#19d3f3",
           "#FF6692",
           "#B6E880",
           "#FF97FF",
           "#FECB52"
          ],
          "font": {
           "color": "#2a3f5f"
          },
          "geo": {
           "bgcolor": "white",
           "lakecolor": "white",
           "landcolor": "#E5ECF6",
           "showlakes": true,
           "showland": true,
           "subunitcolor": "white"
          },
          "hoverlabel": {
           "align": "left"
          },
          "hovermode": "closest",
          "mapbox": {
           "style": "light"
          },
          "paper_bgcolor": "white",
          "plot_bgcolor": "#E5ECF6",
          "polar": {
           "angularaxis": {
            "gridcolor": "white",
            "linecolor": "white",
            "ticks": ""
           },
           "bgcolor": "#E5ECF6",
           "radialaxis": {
            "gridcolor": "white",
            "linecolor": "white",
            "ticks": ""
           }
          },
          "scene": {
           "xaxis": {
            "backgroundcolor": "#E5ECF6",
            "gridcolor": "white",
            "gridwidth": 2,
            "linecolor": "white",
            "showbackground": true,
            "ticks": "",
            "zerolinecolor": "white"
           },
           "yaxis": {
            "backgroundcolor": "#E5ECF6",
            "gridcolor": "white",
            "gridwidth": 2,
            "linecolor": "white",
            "showbackground": true,
            "ticks": "",
            "zerolinecolor": "white"
           },
           "zaxis": {
            "backgroundcolor": "#E5ECF6",
            "gridcolor": "white",
            "gridwidth": 2,
            "linecolor": "white",
            "showbackground": true,
            "ticks": "",
            "zerolinecolor": "white"
           }
          },
          "shapedefaults": {
           "line": {
            "color": "#2a3f5f"
           }
          },
          "ternary": {
           "aaxis": {
            "gridcolor": "white",
            "linecolor": "white",
            "ticks": ""
           },
           "baxis": {
            "gridcolor": "white",
            "linecolor": "white",
            "ticks": ""
           },
           "bgcolor": "#E5ECF6",
           "caxis": {
            "gridcolor": "white",
            "linecolor": "white",
            "ticks": ""
           }
          },
          "title": {
           "x": 0.05
          },
          "xaxis": {
           "automargin": true,
           "gridcolor": "white",
           "linecolor": "white",
           "ticks": "",
           "title": {
            "standoff": 15
           },
           "zerolinecolor": "white",
           "zerolinewidth": 2
          },
          "yaxis": {
           "automargin": true,
           "gridcolor": "white",
           "linecolor": "white",
           "ticks": "",
           "title": {
            "standoff": 15
           },
           "zerolinecolor": "white",
           "zerolinewidth": 2
          }
         }
        }
       }
      }
     },
     "metadata": {},
     "output_type": "display_data"
    }
   ],
   "source": [
    "# sunburst()\n",
    "\n",
    "\n",
    "def sunburst():\n",
    "\n",
    "    df_expensive_neighborhoods_per_year = sfo_neighborhoods_census.sort_values(ascending=False, by ='sale_price_sqr_foot') \n",
    "    \n",
    "    sunburst_data= px.sunburst(\n",
    "        df_expensive_neighborhoods_per_year,\n",
    "        path = [\"year\",\"neighborhood\"],\n",
    "        values = \"sale_price_sqr_foot\",\n",
    "        color=\"gross_rent\", \n",
    "        hover_data=[\"gross_rent\"],\n",
    "        color_continuous_scale=\"blues\",\n",
    "        height = 700\n",
    "        \n",
    "    )\n",
    "    return sunburst_data\n",
    "\n",
    "sunburst()"
   ]
  },
  {
   "cell_type": "code",
   "execution_count": 53,
   "metadata": {},
   "outputs": [
    {
     "data": {
      "text/html": [
       "<div>\n",
       "<style scoped>\n",
       "    .dataframe tbody tr th:only-of-type {\n",
       "        vertical-align: middle;\n",
       "    }\n",
       "\n",
       "    .dataframe tbody tr th {\n",
       "        vertical-align: top;\n",
       "    }\n",
       "\n",
       "    .dataframe thead th {\n",
       "        text-align: right;\n",
       "    }\n",
       "</style>\n",
       "<table border=\"1\" class=\"dataframe\">\n",
       "  <thead>\n",
       "    <tr style=\"text-align: right;\">\n",
       "      <th></th>\n",
       "      <th>year</th>\n",
       "      <th>neighborhood</th>\n",
       "      <th>sale_price_sqr_foot</th>\n",
       "      <th>housing_units</th>\n",
       "      <th>gross_rent</th>\n",
       "    </tr>\n",
       "  </thead>\n",
       "  <tbody>\n",
       "    <tr>\n",
       "      <th>0</th>\n",
       "      <td>2010</td>\n",
       "      <td>Alamo Square</td>\n",
       "      <td>291.182945</td>\n",
       "      <td>372560</td>\n",
       "      <td>1239</td>\n",
       "    </tr>\n",
       "    <tr>\n",
       "      <th>1</th>\n",
       "      <td>2010</td>\n",
       "      <td>Anza Vista</td>\n",
       "      <td>267.932583</td>\n",
       "      <td>372560</td>\n",
       "      <td>1239</td>\n",
       "    </tr>\n",
       "    <tr>\n",
       "      <th>2</th>\n",
       "      <td>2010</td>\n",
       "      <td>Bayview</td>\n",
       "      <td>170.098665</td>\n",
       "      <td>372560</td>\n",
       "      <td>1239</td>\n",
       "    </tr>\n",
       "    <tr>\n",
       "      <th>3</th>\n",
       "      <td>2010</td>\n",
       "      <td>Buena Vista Park</td>\n",
       "      <td>347.394919</td>\n",
       "      <td>372560</td>\n",
       "      <td>1239</td>\n",
       "    </tr>\n",
       "    <tr>\n",
       "      <th>4</th>\n",
       "      <td>2010</td>\n",
       "      <td>Central Richmond</td>\n",
       "      <td>319.027623</td>\n",
       "      <td>372560</td>\n",
       "      <td>1239</td>\n",
       "    </tr>\n",
       "    <tr>\n",
       "      <th>...</th>\n",
       "      <td>...</td>\n",
       "      <td>...</td>\n",
       "      <td>...</td>\n",
       "      <td>...</td>\n",
       "      <td>...</td>\n",
       "    </tr>\n",
       "    <tr>\n",
       "      <th>392</th>\n",
       "      <td>2016</td>\n",
       "      <td>Telegraph Hill</td>\n",
       "      <td>903.049771</td>\n",
       "      <td>384242</td>\n",
       "      <td>4390</td>\n",
       "    </tr>\n",
       "    <tr>\n",
       "      <th>393</th>\n",
       "      <td>2016</td>\n",
       "      <td>Twin Peaks</td>\n",
       "      <td>970.085470</td>\n",
       "      <td>384242</td>\n",
       "      <td>4390</td>\n",
       "    </tr>\n",
       "    <tr>\n",
       "      <th>394</th>\n",
       "      <td>2016</td>\n",
       "      <td>Van Ness/ Civic Center</td>\n",
       "      <td>552.602567</td>\n",
       "      <td>384242</td>\n",
       "      <td>4390</td>\n",
       "    </tr>\n",
       "    <tr>\n",
       "      <th>395</th>\n",
       "      <td>2016</td>\n",
       "      <td>Visitacion Valley</td>\n",
       "      <td>328.319007</td>\n",
       "      <td>384242</td>\n",
       "      <td>4390</td>\n",
       "    </tr>\n",
       "    <tr>\n",
       "      <th>396</th>\n",
       "      <td>2016</td>\n",
       "      <td>Westwood Park</td>\n",
       "      <td>631.195426</td>\n",
       "      <td>384242</td>\n",
       "      <td>4390</td>\n",
       "    </tr>\n",
       "  </tbody>\n",
       "</table>\n",
       "<p>397 rows × 5 columns</p>\n",
       "</div>"
      ],
      "text/plain": [
       "     year            neighborhood  sale_price_sqr_foot  housing_units  \\\n",
       "0    2010            Alamo Square           291.182945         372560   \n",
       "1    2010              Anza Vista           267.932583         372560   \n",
       "2    2010                 Bayview           170.098665         372560   \n",
       "3    2010        Buena Vista Park           347.394919         372560   \n",
       "4    2010        Central Richmond           319.027623         372560   \n",
       "..    ...                     ...                  ...            ...   \n",
       "392  2016          Telegraph Hill           903.049771         384242   \n",
       "393  2016              Twin Peaks           970.085470         384242   \n",
       "394  2016  Van Ness/ Civic Center           552.602567         384242   \n",
       "395  2016       Visitacion Valley           328.319007         384242   \n",
       "396  2016           Westwood Park           631.195426         384242   \n",
       "\n",
       "     gross_rent  \n",
       "0          1239  \n",
       "1          1239  \n",
       "2          1239  \n",
       "3          1239  \n",
       "4          1239  \n",
       "..          ...  \n",
       "392        4390  \n",
       "393        4390  \n",
       "394        4390  \n",
       "395        4390  \n",
       "396        4390  \n",
       "\n",
       "[397 rows x 5 columns]"
      ]
     },
     "execution_count": 53,
     "metadata": {},
     "output_type": "execute_result"
    }
   ],
   "source": [
    "sfo_neighborhoods_census\n"
   ]
  },
  {
   "cell_type": "code",
   "execution_count": null,
   "metadata": {},
   "outputs": [],
   "source": []
  },
  {
   "cell_type": "code",
   "execution_count": null,
   "metadata": {},
   "outputs": [],
   "source": []
  },
  {
   "cell_type": "code",
   "execution_count": null,
   "metadata": {},
   "outputs": [],
   "source": [
    "\n",
    "\n",
    "\n",
    "\n",
    "\n"
   ]
  },
  {
   "cell_type": "code",
   "execution_count": null,
   "metadata": {},
   "outputs": [],
   "source": []
  },
  {
   "cell_type": "code",
   "execution_count": null,
   "metadata": {},
   "outputs": [],
   "source": []
  },
  {
   "cell_type": "code",
   "execution_count": null,
   "metadata": {},
   "outputs": [],
   "source": []
  },
  {
   "cell_type": "code",
   "execution_count": null,
   "metadata": {},
   "outputs": [],
   "source": []
  },
  {
   "cell_type": "code",
   "execution_count": null,
   "metadata": {},
   "outputs": [],
   "source": [
    "\n"
   ]
  },
  {
   "cell_type": "code",
   "execution_count": null,
   "metadata": {},
   "outputs": [],
   "source": []
  },
  {
   "cell_type": "code",
   "execution_count": null,
   "metadata": {},
   "outputs": [],
   "source": []
  },
  {
   "cell_type": "code",
   "execution_count": null,
   "metadata": {},
   "outputs": [],
   "source": []
  },
  {
   "cell_type": "code",
   "execution_count": null,
   "metadata": {},
   "outputs": [],
   "source": []
  },
  {
   "cell_type": "code",
   "execution_count": null,
   "metadata": {},
   "outputs": [],
   "source": []
  },
  {
   "cell_type": "code",
   "execution_count": null,
   "metadata": {},
   "outputs": [],
   "source": []
  }
 ],
 "metadata": {
  "file_extension": ".py",
  "interpreter": {
   "hash": "c1e44f119f044963ac0aba58d3508da9d91691a7d1d8ced29c4c5484c379c920"
  },
  "kernelspec": {
   "display_name": "Python 3 (ipykernel)",
   "language": "python",
   "name": "python3"
  },
  "language_info": {
   "codemirror_mode": {
    "name": "ipython",
    "version": 3
   },
   "file_extension": ".py",
   "mimetype": "text/x-python",
   "name": "python",
   "nbconvert_exporter": "python",
   "pygments_lexer": "ipython3",
   "version": "3.7.11"
  },
  "mimetype": "text/x-python",
  "name": "python",
  "npconvert_exporter": "python",
  "pygments_lexer": "ipython3",
  "version": 3
 },
 "nbformat": 4,
 "nbformat_minor": 4
}
